{
 "cells": [
  {
   "cell_type": "code",
   "execution_count": 1,
   "metadata": {},
   "outputs": [],
   "source": [
    "import numpy as np\n",
    "import pandas as pd\n",
    "import assist_function\n",
    "import sys\n",
    "sys.path.append(\"C://Users/Admin/Desktop/000-data_science/sem2-project_1/treepedia_dl_public-master\")\n",
    "import model_lib as treepedia_dl"
   ]
  },
  {
   "attachments": {},
   "cell_type": "markdown",
   "metadata": {},
   "source": [
    "# load model"
   ]
  },
  {
   "cell_type": "code",
   "execution_count": 2,
   "metadata": {},
   "outputs": [],
   "source": [
    "def unsupervised_segmentation(images):\n",
    "    red = images[:, :, :, 0]\n",
    "    green = images[:, :, :, 1]\n",
    "    blue = images[:, :, :, 2]\n",
    "\n",
    "    diff_1 = green - red\n",
    "    diff_2 = green - blue\n",
    "\n",
    "    diff_1[diff_1 < 0] = 0\n",
    "    diff_2[diff_2 < 0] = 0\n",
    "\n",
    "    Diff = diff_1 * diff_2\n",
    "\n",
    "    return Diff"
   ]
  },
  {
   "cell_type": "code",
   "execution_count": 3,
   "metadata": {},
   "outputs": [],
   "source": [
    "def unsupervised_GVI_pred(images):\n",
    "    red = images[:, :, :, 0]\n",
    "    green = images[:, :, :, 1]\n",
    "    blue = images[:, :, :, 2]\n",
    "\n",
    "    diff_1 = green - red\n",
    "    diff_2 = green - blue\n",
    "\n",
    "    diff_1[diff_1 < 0] = 0\n",
    "    diff_2[diff_2 < 0] = 0\n",
    "\n",
    "    Diff = diff_1 * diff_2\n",
    "    \n",
    "    Diff[Diff < 30] = 0\n",
    "    Diff[Diff >= 30] = 1\n",
    "    unsupervised_GVI_pred =[]\n",
    "\n",
    "    for i in range(len(Diff)):\n",
    "        pred = np.mean(Diff[i] != 0)\n",
    "        unsupervised_GVI_pred.append(pred)\n",
    "\n",
    "    unsupervised_GVI_pred = np.array(unsupervised_GVI_pred)\n",
    "\n",
    "    return unsupervised_GVI_pred"
   ]
  },
  {
   "attachments": {},
   "cell_type": "markdown",
   "metadata": {},
   "source": [
    "# load data"
   ]
  },
  {
   "cell_type": "code",
   "execution_count": 4,
   "metadata": {},
   "outputs": [],
   "source": [
    "current_model = [224, 224, 3]\n",
    "\n",
    "X_test, y_test = assist_function.load_and_resize(\n",
    "    \"data/input_data/labelled_pair_test.txt\", current_model)\n",
    "\n",
    "y_test[y_test < 100] = 0\n",
    "y_test[y_test >= 100] = 1\n",
    "y_test_GVI = np.mean(y_test, axis=(1,2))"
   ]
  },
  {
   "cell_type": "code",
   "execution_count": 5,
   "metadata": {},
   "outputs": [
    {
     "data": {
      "text/html": [
       "<div>\n",
       "<style scoped>\n",
       "    .dataframe tbody tr th:only-of-type {\n",
       "        vertical-align: middle;\n",
       "    }\n",
       "\n",
       "    .dataframe tbody tr th {\n",
       "        vertical-align: top;\n",
       "    }\n",
       "\n",
       "    .dataframe thead th {\n",
       "        text-align: right;\n",
       "    }\n",
       "</style>\n",
       "<table border=\"1\" class=\"dataframe\">\n",
       "  <thead>\n",
       "    <tr style=\"text-align: right;\">\n",
       "      <th></th>\n",
       "      <th>lat</th>\n",
       "      <th>lng</th>\n",
       "      <th>heading</th>\n",
       "    </tr>\n",
       "  </thead>\n",
       "  <tbody>\n",
       "    <tr>\n",
       "      <th>0</th>\n",
       "      <td>1.464214838923537</td>\n",
       "      <td>103.7680466183046</td>\n",
       "      <td>120</td>\n",
       "    </tr>\n",
       "    <tr>\n",
       "      <th>1</th>\n",
       "      <td>1.45906910621281</td>\n",
       "      <td>103.7668877466677</td>\n",
       "      <td>180</td>\n",
       "    </tr>\n",
       "    <tr>\n",
       "      <th>2</th>\n",
       "      <td>1.463961299646011</td>\n",
       "      <td>103.7717313271459</td>\n",
       "      <td>180</td>\n",
       "    </tr>\n",
       "  </tbody>\n",
       "</table>\n",
       "</div>"
      ],
      "text/plain": [
       "                 lat                lng  heading\n",
       "0  1.464214838923537  103.7680466183046      120\n",
       "1   1.45906910621281  103.7668877466677      180\n",
       "2  1.463961299646011  103.7717313271459      180"
      ]
     },
     "execution_count": 5,
     "metadata": {},
     "output_type": "execute_result"
    }
   ],
   "source": [
    "test_metadata = assist_function.retrieve_metadata('data/input_data/labelled_pair_test.txt')\n",
    "test_metadata.head(3)"
   ]
  },
  {
   "attachments": {},
   "cell_type": "markdown",
   "metadata": {},
   "source": [
    "# Inference"
   ]
  },
  {
   "cell_type": "code",
   "execution_count": 6,
   "metadata": {},
   "outputs": [
    {
     "name": "stdout",
     "output_type": "stream",
     "text": [
      "training time =  0.15352916717529297 seconds\n"
     ]
    }
   ],
   "source": [
    "import time\n",
    "st =  time.time()\n",
    "\n",
    "pred_ts = unsupervised_GVI_pred(X_test.astype(float))   # need to change the type to float before proceeding\n",
    "pred_ts\n",
    "\n",
    "et =  time.time()\n",
    "elapsed_time = et - st\n",
    "print('training time = ', elapsed_time,'seconds')"
   ]
  },
  {
   "cell_type": "code",
   "execution_count": 10,
   "metadata": {},
   "outputs": [
    {
     "name": "stdout",
     "output_type": "stream",
     "text": [
      "Average Absolute GVI error is: 0.067772\n",
      "5-95 percentile of Absolute GVI error is (-0.065886, 0.198102)\n",
      "Correlation of predicted and true GVI is: 0.944534\n"
     ]
    }
   ],
   "source": [
    "# compute difference between prediction and true GVI\n",
    "diff = np.zeros([len(X_test), 1])\n",
    "for i in range(len(X_test)):\n",
    "    diff[i] = y_test_GVI[i]-pred_ts[i]\n",
    "\n",
    "# evaluate accuracy of model\n",
    "print(\"Average Absolute GVI error is: %f\" % np.mean(np.abs(diff)))\n",
    "percentile_result = np.percentile(diff, [5, 95])\n",
    "print(\"5-95 percentile of Absolute GVI error is (%f, %f)\" %\n",
    "      (percentile_result[0], percentile_result[1]))\n",
    "print(\"Correlation of predicted and true GVI is: %f\" %\n",
    "      np.corrcoef(pred_ts.T, y_test_GVI.T)[0, 1])"
   ]
  },
  {
   "cell_type": "code",
   "execution_count": 11,
   "metadata": {},
   "outputs": [
    {
     "data": {
      "text/html": [
       "<div>\n",
       "<style scoped>\n",
       "    .dataframe tbody tr th:only-of-type {\n",
       "        vertical-align: middle;\n",
       "    }\n",
       "\n",
       "    .dataframe tbody tr th {\n",
       "        vertical-align: top;\n",
       "    }\n",
       "\n",
       "    .dataframe thead th {\n",
       "        text-align: right;\n",
       "    }\n",
       "</style>\n",
       "<table border=\"1\" class=\"dataframe\">\n",
       "  <thead>\n",
       "    <tr style=\"text-align: right;\">\n",
       "      <th></th>\n",
       "      <th>lat</th>\n",
       "      <th>lng</th>\n",
       "      <th>heading</th>\n",
       "      <th>pred</th>\n",
       "      <th>gt</th>\n",
       "      <th>diff</th>\n",
       "    </tr>\n",
       "  </thead>\n",
       "  <tbody>\n",
       "    <tr>\n",
       "      <th>0</th>\n",
       "      <td>1.464214838923537</td>\n",
       "      <td>103.7680466183046</td>\n",
       "      <td>120</td>\n",
       "      <td>0.131099</td>\n",
       "      <td>0.141582</td>\n",
       "      <td>0.010483</td>\n",
       "    </tr>\n",
       "    <tr>\n",
       "      <th>1</th>\n",
       "      <td>1.45906910621281</td>\n",
       "      <td>103.7668877466677</td>\n",
       "      <td>180</td>\n",
       "      <td>0.059391</td>\n",
       "      <td>0.000000</td>\n",
       "      <td>0.059391</td>\n",
       "    </tr>\n",
       "    <tr>\n",
       "      <th>2</th>\n",
       "      <td>1.463961299646011</td>\n",
       "      <td>103.7717313271459</td>\n",
       "      <td>180</td>\n",
       "      <td>0.217734</td>\n",
       "      <td>0.197325</td>\n",
       "      <td>0.020408</td>\n",
       "    </tr>\n",
       "    <tr>\n",
       "      <th>3</th>\n",
       "      <td>1.467388080645603</td>\n",
       "      <td>103.7654123835077</td>\n",
       "      <td>0</td>\n",
       "      <td>0.088987</td>\n",
       "      <td>0.040079</td>\n",
       "      <td>0.048908</td>\n",
       "    </tr>\n",
       "    <tr>\n",
       "      <th>4</th>\n",
       "      <td>1.46385196757463</td>\n",
       "      <td>103.7714928793899</td>\n",
       "      <td>180</td>\n",
       "      <td>0.106884</td>\n",
       "      <td>0.000000</td>\n",
       "      <td>0.106884</td>\n",
       "    </tr>\n",
       "    <tr>\n",
       "      <th>...</th>\n",
       "      <td>...</td>\n",
       "      <td>...</td>\n",
       "      <td>...</td>\n",
       "      <td>...</td>\n",
       "      <td>...</td>\n",
       "      <td>...</td>\n",
       "    </tr>\n",
       "    <tr>\n",
       "      <th>75</th>\n",
       "      <td>1.461623873936034</td>\n",
       "      <td>103.7626822794463</td>\n",
       "      <td>180</td>\n",
       "      <td>0.093212</td>\n",
       "      <td>0.091996</td>\n",
       "      <td>0.001216</td>\n",
       "    </tr>\n",
       "    <tr>\n",
       "      <th>76</th>\n",
       "      <td>1.471528068901578</td>\n",
       "      <td>103.7667682176015</td>\n",
       "      <td>120</td>\n",
       "      <td>0.224789</td>\n",
       "      <td>0.234116</td>\n",
       "      <td>0.009327</td>\n",
       "    </tr>\n",
       "    <tr>\n",
       "      <th>77</th>\n",
       "      <td>1.4586617</td>\n",
       "      <td>103.7687351</td>\n",
       "      <td>0</td>\n",
       "      <td>0.296775</td>\n",
       "      <td>0.000000</td>\n",
       "      <td>0.296775</td>\n",
       "    </tr>\n",
       "    <tr>\n",
       "      <th>78</th>\n",
       "      <td>1.46526614898588</td>\n",
       "      <td>103.7697100603857</td>\n",
       "      <td>0</td>\n",
       "      <td>0.406928</td>\n",
       "      <td>0.431780</td>\n",
       "      <td>0.024853</td>\n",
       "    </tr>\n",
       "    <tr>\n",
       "      <th>79</th>\n",
       "      <td>1.465542948619651</td>\n",
       "      <td>103.761433457236</td>\n",
       "      <td>240</td>\n",
       "      <td>0.092893</td>\n",
       "      <td>0.010762</td>\n",
       "      <td>0.082131</td>\n",
       "    </tr>\n",
       "  </tbody>\n",
       "</table>\n",
       "<p>80 rows × 6 columns</p>\n",
       "</div>"
      ],
      "text/plain": [
       "                  lat                lng  heading      pred        gt  \\\n",
       "0   1.464214838923537  103.7680466183046      120  0.131099  0.141582   \n",
       "1    1.45906910621281  103.7668877466677      180  0.059391  0.000000   \n",
       "2   1.463961299646011  103.7717313271459      180  0.217734  0.197325   \n",
       "3   1.467388080645603  103.7654123835077        0  0.088987  0.040079   \n",
       "4    1.46385196757463  103.7714928793899      180  0.106884  0.000000   \n",
       "..                ...                ...      ...       ...       ...   \n",
       "75  1.461623873936034  103.7626822794463      180  0.093212  0.091996   \n",
       "76  1.471528068901578  103.7667682176015      120  0.224789  0.234116   \n",
       "77          1.4586617        103.7687351        0  0.296775  0.000000   \n",
       "78   1.46526614898588  103.7697100603857        0  0.406928  0.431780   \n",
       "79  1.465542948619651   103.761433457236      240  0.092893  0.010762   \n",
       "\n",
       "        diff  \n",
       "0   0.010483  \n",
       "1   0.059391  \n",
       "2   0.020408  \n",
       "3   0.048908  \n",
       "4   0.106884  \n",
       "..       ...  \n",
       "75  0.001216  \n",
       "76  0.009327  \n",
       "77  0.296775  \n",
       "78  0.024853  \n",
       "79  0.082131  \n",
       "\n",
       "[80 rows x 6 columns]"
      ]
     },
     "execution_count": 11,
     "metadata": {},
     "output_type": "execute_result"
    }
   ],
   "source": [
    "pixseg_prediction = pd.concat([test_metadata, pd.Series(pred_ts.flatten()), pd.Series(y_test_GVI)], \n",
    "                            axis=1)\n",
    "pixseg_prediction = pixseg_prediction.rename(columns={0: 'pred', 1: 'gt'})\n",
    "pixseg_prediction['diff'] = (pixseg_prediction['gt'] - pixseg_prediction['pred']).abs()\n",
    "pixseg_prediction"
   ]
  },
  {
   "cell_type": "code",
   "execution_count": 12,
   "metadata": {},
   "outputs": [
    {
     "data": {
      "text/plain": [
       "0.23307955994897958"
      ]
     },
     "execution_count": 12,
     "metadata": {},
     "output_type": "execute_result"
    }
   ],
   "source": [
    "pixseg_prediction.pred.median()"
   ]
  },
  {
   "cell_type": "code",
   "execution_count": 231,
   "metadata": {},
   "outputs": [],
   "source": [
    "pixseg_prediction.to_csv(\"data/output_data/PixSeg_test_evaluation.csv\")"
   ]
  },
  {
   "attachments": {},
   "cell_type": "markdown",
   "metadata": {},
   "source": [
    "# Bias investigation"
   ]
  },
  {
   "cell_type": "code",
   "execution_count": 13,
   "metadata": {},
   "outputs": [],
   "source": [
    "pixseg_prediction['diff_with_sign'] = pixseg_prediction['pred'] - pixseg_prediction['gt']"
   ]
  },
  {
   "cell_type": "code",
   "execution_count": 15,
   "metadata": {},
   "outputs": [
    {
     "data": {
      "text/plain": [
       "Text(0.5, 1.0, 'Investigating bias (pixseg)')"
      ]
     },
     "execution_count": 15,
     "metadata": {},
     "output_type": "execute_result"
    },
    {
     "data": {
      "image/png": "[encoded data removed]",
      "text/plain": [
       "<Figure size 640x480 with 1 Axes>"
      ]
     },
     "metadata": {},
     "output_type": "display_data"
    }
   ],
   "source": [
    "import matplotlib.pyplot as plt\n",
    "# Create a figure and axes\n",
    "fig, ax = plt.subplots()\n",
    "\n",
    "# Plot the data\n",
    "ax.scatter(pixseg_prediction['pred'], pixseg_prediction['diff_with_sign'])\n",
    "\n",
    "# Move the y-axis to x=0\n",
    "ax.spines['bottom'].set_position(('data', 0))\n",
    "# Remove the right and top spines\n",
    "ax.spines['right'].set_visible(False)\n",
    "ax.spines['top'].set_visible(False)\n",
    "\n",
    "ax.set_xlabel(\"GVI prediction\", labelpad= -40)\n",
    "ax.set_ylabel(\"Error (Prediction - true GVI)\")\n",
    "ax.set_title(\"Investigating bias (pixseg)\")"
   ]
  },
  {
   "cell_type": "code",
   "execution_count": 16,
   "metadata": {},
   "outputs": [],
   "source": [
    "pixseg_prediction.loc[pixseg_prediction['pred'] < pixseg_prediction['gt'], 'estimation'] = 'underestimation'\n",
    "pixseg_prediction.loc[pixseg_prediction['pred'] == pixseg_prediction['gt'], 'estimation'] = 'accurate estimation'\n",
    "pixseg_prediction.loc[pixseg_prediction['pred'] > pixseg_prediction['gt'], 'estimation'] = 'overestimation'"
   ]
  },
  {
   "cell_type": "code",
   "execution_count": 17,
   "metadata": {},
   "outputs": [
    {
     "data": {
      "text/plain": [
       "estimation     \n",
       "underestimation    46\n",
       "overestimation     34\n",
       "dtype: int64"
      ]
     },
     "execution_count": 17,
     "metadata": {},
     "output_type": "execute_result"
    }
   ],
   "source": [
    "pixseg_prediction[['estimation']].value_counts()"
   ]
  },
  {
   "cell_type": "code",
   "execution_count": 227,
   "metadata": {},
   "outputs": [
    {
     "data": {
      "text/html": [
       "<div>\n",
       "<style scoped>\n",
       "    .dataframe tbody tr th:only-of-type {\n",
       "        vertical-align: middle;\n",
       "    }\n",
       "\n",
       "    .dataframe tbody tr th {\n",
       "        vertical-align: top;\n",
       "    }\n",
       "\n",
       "    .dataframe thead th {\n",
       "        text-align: right;\n",
       "    }\n",
       "</style>\n",
       "<table border=\"1\" class=\"dataframe\">\n",
       "  <thead>\n",
       "    <tr style=\"text-align: right;\">\n",
       "      <th></th>\n",
       "      <th>pred</th>\n",
       "      <th>estimation</th>\n",
       "      <th>count</th>\n",
       "    </tr>\n",
       "  </thead>\n",
       "  <tbody>\n",
       "    <tr>\n",
       "      <th>0</th>\n",
       "      <td>(-0.000537, 0.159]</td>\n",
       "      <td>overestimation</td>\n",
       "      <td>29</td>\n",
       "    </tr>\n",
       "    <tr>\n",
       "      <th>1</th>\n",
       "      <td>(-0.000537, 0.159]</td>\n",
       "      <td>underestimation</td>\n",
       "      <td>13</td>\n",
       "    </tr>\n",
       "    <tr>\n",
       "      <th>2</th>\n",
       "      <td>(0.159, 0.318]</td>\n",
       "      <td>overestimation</td>\n",
       "      <td>3</td>\n",
       "    </tr>\n",
       "    <tr>\n",
       "      <th>3</th>\n",
       "      <td>(0.159, 0.318]</td>\n",
       "      <td>underestimation</td>\n",
       "      <td>14</td>\n",
       "    </tr>\n",
       "    <tr>\n",
       "      <th>4</th>\n",
       "      <td>(0.318, 0.478]</td>\n",
       "      <td>overestimation</td>\n",
       "      <td>1</td>\n",
       "    </tr>\n",
       "    <tr>\n",
       "      <th>5</th>\n",
       "      <td>(0.318, 0.478]</td>\n",
       "      <td>underestimation</td>\n",
       "      <td>15</td>\n",
       "    </tr>\n",
       "    <tr>\n",
       "      <th>6</th>\n",
       "      <td>(0.478, 0.637]</td>\n",
       "      <td>overestimation</td>\n",
       "      <td>1</td>\n",
       "    </tr>\n",
       "    <tr>\n",
       "      <th>7</th>\n",
       "      <td>(0.478, 0.637]</td>\n",
       "      <td>underestimation</td>\n",
       "      <td>4</td>\n",
       "    </tr>\n",
       "  </tbody>\n",
       "</table>\n",
       "</div>"
      ],
      "text/plain": [
       "                 pred       estimation  count\n",
       "0  (-0.000537, 0.159]   overestimation     29\n",
       "1  (-0.000537, 0.159]  underestimation     13\n",
       "2      (0.159, 0.318]   overestimation      3\n",
       "3      (0.159, 0.318]  underestimation     14\n",
       "4      (0.318, 0.478]   overestimation      1\n",
       "5      (0.318, 0.478]  underestimation     15\n",
       "6      (0.478, 0.637]   overestimation      1\n",
       "7      (0.478, 0.637]  underestimation      4"
      ]
     },
     "execution_count": 227,
     "metadata": {},
     "output_type": "execute_result"
    }
   ],
   "source": [
    "grouped_df = pd.DataFrame(pixseg_prediction.groupby([bins, 'estimation']).size()).reset_index().rename(columns={0: 'count'})\n",
    "grouped_df.pred = grouped_df.pred.astype(str)\n",
    "grouped_df"
   ]
  },
  {
   "cell_type": "code",
   "execution_count": 228,
   "metadata": {},
   "outputs": [
    {
     "data": {
      "text/plain": [
       "Text(0.5, 1.0, 'Error analysis of GVI prediction predictions by bins (Pixel Segmntation)')"
      ]
     },
     "execution_count": 228,
     "metadata": {},
     "output_type": "execute_result"
    },
    {
     "data": {
      "image/png": "[encoded data removed]",
      "text/plain": [
       "<Figure size 800x500 with 1 Axes>"
      ]
     },
     "metadata": {},
     "output_type": "display_data"
    }
   ],
   "source": [
    "import pandas as pd\n",
    "import matplotlib.pyplot as plt\n",
    "import seaborn as sns\n",
    "# Assuming you have the grouped_df DataFrame with two levels of index\n",
    "# grouped_df = ...\n",
    "\n",
    "# Plot the bar chart\n",
    "fig, ax = plt.subplots(figsize=(8, 5))\n",
    "plt.show = sns.barplot( data=grouped_df, hue='estimation', x='count', y='pred', orient='h', dodge=True, ax=ax)\n",
    "\n",
    "#ax.set_yticklabels(grouped_df[['pred']].astype(str))\n",
    "ax.set_xlabel('Count')\n",
    "ax.set_ylabel('GVI prediction bins')\n",
    "ax.set_title('Error analysis of GVI prediction predictions by bins (Pixel Segmntation)')\n"
   ]
  }
 ],
 "metadata": {
  "kernelspec": {
   "display_name": "py310",
   "language": "python",
   "name": "python3"
  },
  "language_info": {
   "codemirror_mode": {
    "name": "ipython",
    "version": 3
   },
   "file_extension": ".py",
   "mimetype": "text/x-python",
   "name": "python",
   "nbconvert_exporter": "python",
   "pygments_lexer": "ipython3",
   "version": "3.10.4"
  },
  "orig_nbformat": 4
 },
 "nbformat": 4,
 "nbformat_minor": 2
}
