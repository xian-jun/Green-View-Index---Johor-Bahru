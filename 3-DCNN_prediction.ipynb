{
 "cells": [
  {
   "cell_type": "code",
   "execution_count": 8,
   "metadata": {},
   "outputs": [],
   "source": [
    "import tensorflow as tf\n",
    "import pandas as pd\n",
    "import numpy as np\n",
    "import assist_function"
   ]
  },
  {
   "attachments": {},
   "cell_type": "markdown",
   "metadata": {},
   "source": [
    "# load model"
   ]
  },
  {
   "cell_type": "code",
   "execution_count": 9,
   "metadata": {},
   "outputs": [],
   "source": [
    "model = tf.keras.models.load_model('trained_models\\DCNN_model.hdf5')"
   ]
  },
  {
   "attachments": {},
   "cell_type": "markdown",
   "metadata": {},
   "source": [
    "# load data"
   ]
  },
  {
   "cell_type": "code",
   "execution_count": 10,
   "metadata": {},
   "outputs": [
    {
     "name": "stdout",
     "output_type": "stream",
     "text": [
      "(6018, 224, 224, 3)\n"
     ]
    }
   ],
   "source": [
    "current_model = [224, 224, 3]\n",
    "\n",
    "X_pred = assist_function.load_and_resize_pred(\n",
    "    \"data/input_data/all_GSV_img_paths.txt\", current_model)\n",
    "\n",
    "print(X_pred.shape)"
   ]
  },
  {
   "cell_type": "code",
   "execution_count": 11,
   "metadata": {},
   "outputs": [
    {
     "data": {
      "text/html": [
       "<div>\n",
       "<style scoped>\n",
       "    .dataframe tbody tr th:only-of-type {\n",
       "        vertical-align: middle;\n",
       "    }\n",
       "\n",
       "    .dataframe tbody tr th {\n",
       "        vertical-align: top;\n",
       "    }\n",
       "\n",
       "    .dataframe thead th {\n",
       "        text-align: right;\n",
       "    }\n",
       "</style>\n",
       "<table border=\"1\" class=\"dataframe\">\n",
       "  <thead>\n",
       "    <tr style=\"text-align: right;\">\n",
       "      <th></th>\n",
       "      <th>lat</th>\n",
       "      <th>lng</th>\n",
       "      <th>heading</th>\n",
       "    </tr>\n",
       "  </thead>\n",
       "  <tbody>\n",
       "    <tr>\n",
       "      <th>0</th>\n",
       "      <td>1.455238538601311</td>\n",
       "      <td>103.7626485082271</td>\n",
       "      <td>0</td>\n",
       "    </tr>\n",
       "    <tr>\n",
       "      <th>1</th>\n",
       "      <td>1.455238538601311</td>\n",
       "      <td>103.7626485082271</td>\n",
       "      <td>120</td>\n",
       "    </tr>\n",
       "    <tr>\n",
       "      <th>2</th>\n",
       "      <td>1.455238538601311</td>\n",
       "      <td>103.7626485082271</td>\n",
       "      <td>180</td>\n",
       "    </tr>\n",
       "  </tbody>\n",
       "</table>\n",
       "</div>"
      ],
      "text/plain": [
       "                 lat                lng  heading\n",
       "0  1.455238538601311  103.7626485082271        0\n",
       "1  1.455238538601311  103.7626485082271      120\n",
       "2  1.455238538601311  103.7626485082271      180"
      ]
     },
     "execution_count": 11,
     "metadata": {},
     "output_type": "execute_result"
    }
   ],
   "source": [
    "pred_metadata = assist_function.retrieve_metadata('data/input_data/all_GSV_img_paths.txt')\n",
    "pred_metadata.head(3)"
   ]
  },
  {
   "attachments": {},
   "cell_type": "markdown",
   "metadata": {},
   "source": [
    "# predict"
   ]
  },
  {
   "cell_type": "code",
   "execution_count": 12,
   "metadata": {},
   "outputs": [
    {
     "name": "stdout",
     "output_type": "stream",
     "text": [
      "301/301 [==============================] - 264s 873ms/step\n",
      "training time =  263.9920666217804 seconds\n"
     ]
    }
   ],
   "source": [
    "import time\n",
    "st =  time.time()\n",
    "\n",
    "pred_ts = model.predict(X_pred, batch_size=20)\n",
    "pred_ts.shape\n",
    "\n",
    "et =  time.time()\n",
    "elapsed_time = et - st\n",
    "print('inference time = ', elapsed_time,'seconds')"
   ]
  },
  {
   "cell_type": "code",
   "execution_count": 1,
   "metadata": {},
   "outputs": [
    {
     "data": {
      "text/plain": [
       "43.86707654067471"
      ]
     },
     "execution_count": 1,
     "metadata": {},
     "output_type": "execute_result"
    }
   ],
   "source": [
    "263.9920666217804 / 6018 * 1000"
   ]
  },
  {
   "cell_type": "code",
   "execution_count": 13,
   "metadata": {},
   "outputs": [
    {
     "data": {
      "text/html": [
       "<div>\n",
       "<style scoped>\n",
       "    .dataframe tbody tr th:only-of-type {\n",
       "        vertical-align: middle;\n",
       "    }\n",
       "\n",
       "    .dataframe tbody tr th {\n",
       "        vertical-align: top;\n",
       "    }\n",
       "\n",
       "    .dataframe thead th {\n",
       "        text-align: right;\n",
       "    }\n",
       "</style>\n",
       "<table border=\"1\" class=\"dataframe\">\n",
       "  <thead>\n",
       "    <tr style=\"text-align: right;\">\n",
       "      <th></th>\n",
       "      <th>lat</th>\n",
       "      <th>lng</th>\n",
       "      <th>heading</th>\n",
       "      <th>pred</th>\n",
       "    </tr>\n",
       "  </thead>\n",
       "  <tbody>\n",
       "    <tr>\n",
       "      <th>0</th>\n",
       "      <td>1.455238538601311</td>\n",
       "      <td>103.7626485082271</td>\n",
       "      <td>0</td>\n",
       "      <td>0.380937</td>\n",
       "    </tr>\n",
       "    <tr>\n",
       "      <th>1</th>\n",
       "      <td>1.455238538601311</td>\n",
       "      <td>103.7626485082271</td>\n",
       "      <td>120</td>\n",
       "      <td>0.080278</td>\n",
       "    </tr>\n",
       "    <tr>\n",
       "      <th>2</th>\n",
       "      <td>1.455238538601311</td>\n",
       "      <td>103.7626485082271</td>\n",
       "      <td>180</td>\n",
       "      <td>0.009857</td>\n",
       "    </tr>\n",
       "    <tr>\n",
       "      <th>3</th>\n",
       "      <td>1.455238538601311</td>\n",
       "      <td>103.7626485082271</td>\n",
       "      <td>240</td>\n",
       "      <td>0.031546</td>\n",
       "    </tr>\n",
       "    <tr>\n",
       "      <th>4</th>\n",
       "      <td>1.455238538601311</td>\n",
       "      <td>103.7626485082271</td>\n",
       "      <td>300</td>\n",
       "      <td>0.272411</td>\n",
       "    </tr>\n",
       "    <tr>\n",
       "      <th>...</th>\n",
       "      <td>...</td>\n",
       "      <td>...</td>\n",
       "      <td>...</td>\n",
       "      <td>...</td>\n",
       "    </tr>\n",
       "    <tr>\n",
       "      <th>6013</th>\n",
       "      <td>1.472754438426505</td>\n",
       "      <td>103.763838550999</td>\n",
       "      <td>120</td>\n",
       "      <td>0.041523</td>\n",
       "    </tr>\n",
       "    <tr>\n",
       "      <th>6014</th>\n",
       "      <td>1.472754438426505</td>\n",
       "      <td>103.763838550999</td>\n",
       "      <td>180</td>\n",
       "      <td>0.029273</td>\n",
       "    </tr>\n",
       "    <tr>\n",
       "      <th>6015</th>\n",
       "      <td>1.472754438426505</td>\n",
       "      <td>103.763838550999</td>\n",
       "      <td>240</td>\n",
       "      <td>0.016789</td>\n",
       "    </tr>\n",
       "    <tr>\n",
       "      <th>6016</th>\n",
       "      <td>1.472754438426505</td>\n",
       "      <td>103.763838550999</td>\n",
       "      <td>300</td>\n",
       "      <td>0.064348</td>\n",
       "    </tr>\n",
       "    <tr>\n",
       "      <th>6017</th>\n",
       "      <td>1.472754438426505</td>\n",
       "      <td>103.763838550999</td>\n",
       "      <td>60</td>\n",
       "      <td>0.195385</td>\n",
       "    </tr>\n",
       "  </tbody>\n",
       "</table>\n",
       "<p>6018 rows × 4 columns</p>\n",
       "</div>"
      ],
      "text/plain": [
       "                    lat                lng  heading      pred\n",
       "0     1.455238538601311  103.7626485082271        0  0.380937\n",
       "1     1.455238538601311  103.7626485082271      120  0.080278\n",
       "2     1.455238538601311  103.7626485082271      180  0.009857\n",
       "3     1.455238538601311  103.7626485082271      240  0.031546\n",
       "4     1.455238538601311  103.7626485082271      300  0.272411\n",
       "...                 ...                ...      ...       ...\n",
       "6013  1.472754438426505   103.763838550999      120  0.041523\n",
       "6014  1.472754438426505   103.763838550999      180  0.029273\n",
       "6015  1.472754438426505   103.763838550999      240  0.016789\n",
       "6016  1.472754438426505   103.763838550999      300  0.064348\n",
       "6017  1.472754438426505   103.763838550999       60  0.195385\n",
       "\n",
       "[6018 rows x 4 columns]"
      ]
     },
     "execution_count": 13,
     "metadata": {},
     "output_type": "execute_result"
    }
   ],
   "source": [
    "DCNN_prediction = pd.concat([pred_metadata, pd.Series(pred_ts.flatten())], \n",
    "                            axis=1)\n",
    "DCNN_prediction = DCNN_prediction.rename(columns={0: 'pred'})\n",
    "DCNN_prediction"
   ]
  },
  {
   "cell_type": "code",
   "execution_count": 14,
   "metadata": {},
   "outputs": [],
   "source": [
    "#DCNN_prediction.to_csv(\"DCNN_prediction.csv\")"
   ]
  }
 ],
 "metadata": {
  "kernelspec": {
   "display_name": "py310",
   "language": "python",
   "name": "python3"
  },
  "language_info": {
   "codemirror_mode": {
    "name": "ipython",
    "version": 3
   },
   "file_extension": ".py",
   "mimetype": "text/x-python",
   "name": "python",
   "nbconvert_exporter": "python",
   "pygments_lexer": "ipython3",
   "version": "3.10.4"
  },
  "orig_nbformat": 4
 },
 "nbformat": 4,
 "nbformat_minor": 2
}
