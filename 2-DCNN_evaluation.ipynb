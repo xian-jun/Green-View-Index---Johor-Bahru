{
 "cells": [
  {
   "cell_type": "code",
   "execution_count": 1,
   "metadata": {},
   "outputs": [],
   "source": [
    "import tensorflow as tf\n",
    "import pandas as pd\n",
    "import numpy as np\n",
    "import assist_function"
   ]
  },
  {
   "attachments": {},
   "cell_type": "markdown",
   "metadata": {},
   "source": [
    "# load model"
   ]
  },
  {
   "cell_type": "code",
   "execution_count": 2,
   "metadata": {},
   "outputs": [],
   "source": [
    "model = tf.keras.models.load_model('trained_models\\DCNN_model.hdf5')"
   ]
  },
  {
   "cell_type": "code",
   "execution_count": 3,
   "metadata": {},
   "outputs": [
    {
     "name": "stdout",
     "output_type": "stream",
     "text": [
      "Model: \"sequential\"\n",
      "_________________________________________________________________\n",
      " Layer (type)                Output Shape              Param #   \n",
      "=================================================================\n",
      " resnet50 (Functional)       (None, 1000)              25636712  \n",
      "                                                                 \n",
      " dense_1 (Dense)             (None, 256)               256256    \n",
      "                                                                 \n",
      " dense_2 (Dense)             (None, 256)               65792     \n",
      "                                                                 \n",
      " dense_3 (Dense)             (None, 256)               65792     \n",
      "                                                                 \n",
      " dense_4 (Dense)             (None, 256)               65792     \n",
      "                                                                 \n",
      " dense_5 (Dense)             (None, 1)                 257       \n",
      "                                                                 \n",
      "=================================================================\n",
      "Total params: 26,090,601\n",
      "Trainable params: 453,889\n",
      "Non-trainable params: 25,636,712\n",
      "_________________________________________________________________\n"
     ]
    }
   ],
   "source": [
    "model.summary()"
   ]
  },
  {
   "attachments": {},
   "cell_type": "markdown",
   "metadata": {},
   "source": [
    "# load data"
   ]
  },
  {
   "cell_type": "code",
   "execution_count": 4,
   "metadata": {},
   "outputs": [
    {
     "name": "stdout",
     "output_type": "stream",
     "text": [
      "(80, 224, 224, 3) (80, 224, 224) (80,)\n"
     ]
    }
   ],
   "source": [
    "current_model = [224, 224, 3]\n",
    "\n",
    "X_test, y_test = assist_function.load_and_resize(\n",
    "    \"data/input_data/labelled_pair_test.txt\", current_model)\n",
    "\n",
    "y_test[y_test < 100] = 0\n",
    "y_test[y_test >= 100] = 1\n",
    "y_test_GVI = np.mean(y_test, axis=(1,2))\n",
    "\n",
    "print(X_test.shape, y_test.shape, y_test_GVI.shape)"
   ]
  },
  {
   "cell_type": "code",
   "execution_count": 5,
   "metadata": {},
   "outputs": [
    {
     "data": {
      "text/html": [
       "<div>\n",
       "<style scoped>\n",
       "    .dataframe tbody tr th:only-of-type {\n",
       "        vertical-align: middle;\n",
       "    }\n",
       "\n",
       "    .dataframe tbody tr th {\n",
       "        vertical-align: top;\n",
       "    }\n",
       "\n",
       "    .dataframe thead th {\n",
       "        text-align: right;\n",
       "    }\n",
       "</style>\n",
       "<table border=\"1\" class=\"dataframe\">\n",
       "  <thead>\n",
       "    <tr style=\"text-align: right;\">\n",
       "      <th></th>\n",
       "      <th>lat</th>\n",
       "      <th>lng</th>\n",
       "      <th>heading</th>\n",
       "    </tr>\n",
       "  </thead>\n",
       "  <tbody>\n",
       "    <tr>\n",
       "      <th>0</th>\n",
       "      <td>1.464214838923537</td>\n",
       "      <td>103.7680466183046</td>\n",
       "      <td>120</td>\n",
       "    </tr>\n",
       "    <tr>\n",
       "      <th>1</th>\n",
       "      <td>1.45906910621281</td>\n",
       "      <td>103.7668877466677</td>\n",
       "      <td>180</td>\n",
       "    </tr>\n",
       "    <tr>\n",
       "      <th>2</th>\n",
       "      <td>1.463961299646011</td>\n",
       "      <td>103.7717313271459</td>\n",
       "      <td>180</td>\n",
       "    </tr>\n",
       "  </tbody>\n",
       "</table>\n",
       "</div>"
      ],
      "text/plain": [
       "                 lat                lng  heading\n",
       "0  1.464214838923537  103.7680466183046      120\n",
       "1   1.45906910621281  103.7668877466677      180\n",
       "2  1.463961299646011  103.7717313271459      180"
      ]
     },
     "execution_count": 5,
     "metadata": {},
     "output_type": "execute_result"
    }
   ],
   "source": [
    "test_metadata = assist_function.retrieve_metadata('data/input_data/labelled_pair_test.txt')\n",
    "test_metadata.head(3)"
   ]
  },
  {
   "attachments": {},
   "cell_type": "markdown",
   "metadata": {},
   "source": [
    "# Inference"
   ]
  },
  {
   "cell_type": "code",
   "execution_count": 6,
   "metadata": {},
   "outputs": [
    {
     "name": "stdout",
     "output_type": "stream",
     "text": [
      "10/10 [==============================] - 6s 496ms/step\n",
      "training time =  6.193286895751953 seconds\n"
     ]
    }
   ],
   "source": [
    "import time\n",
    "st =  time.time()\n",
    "\n",
    "pred_ts = model.predict(X_test, batch_size=8)\n",
    "pred_ts.shape\n",
    "\n",
    "et =  time.time()\n",
    "elapsed_time = et - st\n",
    "print('training time = ', elapsed_time,'seconds')"
   ]
  },
  {
   "cell_type": "code",
   "execution_count": 7,
   "metadata": {},
   "outputs": [
    {
     "name": "stdout",
     "output_type": "stream",
     "text": [
      "Average Absolute GVI error is: 0.045872\n",
      "5-95 percentile of Absolute GVI error is (-0.067116, 0.087973)\n",
      "Correlation of predicted and true GVI is: 0.969098\n"
     ]
    }
   ],
   "source": [
    "# compute difference between prediction and true GVI\n",
    "diff = np.zeros([len(X_test), 1])\n",
    "for i in range(len(X_test)):\n",
    "    diff[i] = y_test_GVI[i]-pred_ts[i]\n",
    "\n",
    "# evaluate accuracy of model\n",
    "print(\"Average Absolute GVI error is: %f\" % np.mean(np.abs(diff)))\n",
    "percentile_result = np.percentile(diff, [5, 95])\n",
    "print(\"5-95 percentile of Absolute GVI error is (%f, %f)\" %\n",
    "      (percentile_result[0], percentile_result[1]))\n",
    "print(\"Correlation of predicted and true GVI is: %f\" %\n",
    "      np.corrcoef(pred_ts.T, y_test_GVI.T)[0, 1])"
   ]
  },
  {
   "cell_type": "code",
   "execution_count": 25,
   "metadata": {},
   "outputs": [
    {
     "data": {
      "text/html": [
       "<div>\n",
       "<style scoped>\n",
       "    .dataframe tbody tr th:only-of-type {\n",
       "        vertical-align: middle;\n",
       "    }\n",
       "\n",
       "    .dataframe tbody tr th {\n",
       "        vertical-align: top;\n",
       "    }\n",
       "\n",
       "    .dataframe thead th {\n",
       "        text-align: right;\n",
       "    }\n",
       "</style>\n",
       "<table border=\"1\" class=\"dataframe\">\n",
       "  <thead>\n",
       "    <tr style=\"text-align: right;\">\n",
       "      <th></th>\n",
       "      <th>lat</th>\n",
       "      <th>lng</th>\n",
       "      <th>heading</th>\n",
       "      <th>pred</th>\n",
       "      <th>gt</th>\n",
       "      <th>diff</th>\n",
       "    </tr>\n",
       "  </thead>\n",
       "  <tbody>\n",
       "    <tr>\n",
       "      <th>0</th>\n",
       "      <td>1.464214838923537</td>\n",
       "      <td>103.7680466183046</td>\n",
       "      <td>120</td>\n",
       "      <td>0.086347</td>\n",
       "      <td>0.141582</td>\n",
       "      <td>0.055235</td>\n",
       "    </tr>\n",
       "    <tr>\n",
       "      <th>1</th>\n",
       "      <td>1.45906910621281</td>\n",
       "      <td>103.7668877466677</td>\n",
       "      <td>180</td>\n",
       "      <td>0.018569</td>\n",
       "      <td>0.000000</td>\n",
       "      <td>0.018569</td>\n",
       "    </tr>\n",
       "    <tr>\n",
       "      <th>2</th>\n",
       "      <td>1.463961299646011</td>\n",
       "      <td>103.7717313271459</td>\n",
       "      <td>180</td>\n",
       "      <td>0.154015</td>\n",
       "      <td>0.197325</td>\n",
       "      <td>0.043310</td>\n",
       "    </tr>\n",
       "    <tr>\n",
       "      <th>3</th>\n",
       "      <td>1.467388080645603</td>\n",
       "      <td>103.7654123835077</td>\n",
       "      <td>0</td>\n",
       "      <td>0.025451</td>\n",
       "      <td>0.040079</td>\n",
       "      <td>0.014628</td>\n",
       "    </tr>\n",
       "    <tr>\n",
       "      <th>4</th>\n",
       "      <td>1.46385196757463</td>\n",
       "      <td>103.7714928793899</td>\n",
       "      <td>180</td>\n",
       "      <td>0.052868</td>\n",
       "      <td>0.000000</td>\n",
       "      <td>0.052868</td>\n",
       "    </tr>\n",
       "    <tr>\n",
       "      <th>...</th>\n",
       "      <td>...</td>\n",
       "      <td>...</td>\n",
       "      <td>...</td>\n",
       "      <td>...</td>\n",
       "      <td>...</td>\n",
       "      <td>...</td>\n",
       "    </tr>\n",
       "    <tr>\n",
       "      <th>75</th>\n",
       "      <td>1.461623873936034</td>\n",
       "      <td>103.7626822794463</td>\n",
       "      <td>180</td>\n",
       "      <td>0.143442</td>\n",
       "      <td>0.091996</td>\n",
       "      <td>0.051446</td>\n",
       "    </tr>\n",
       "    <tr>\n",
       "      <th>76</th>\n",
       "      <td>1.471528068901578</td>\n",
       "      <td>103.7667682176015</td>\n",
       "      <td>120</td>\n",
       "      <td>0.186192</td>\n",
       "      <td>0.234116</td>\n",
       "      <td>0.047924</td>\n",
       "    </tr>\n",
       "    <tr>\n",
       "      <th>77</th>\n",
       "      <td>1.4586617</td>\n",
       "      <td>103.7687351</td>\n",
       "      <td>0</td>\n",
       "      <td>0.006767</td>\n",
       "      <td>0.000000</td>\n",
       "      <td>0.006767</td>\n",
       "    </tr>\n",
       "    <tr>\n",
       "      <th>78</th>\n",
       "      <td>1.46526614898588</td>\n",
       "      <td>103.7697100603857</td>\n",
       "      <td>0</td>\n",
       "      <td>0.480197</td>\n",
       "      <td>0.431780</td>\n",
       "      <td>0.048417</td>\n",
       "    </tr>\n",
       "    <tr>\n",
       "      <th>79</th>\n",
       "      <td>1.465542948619651</td>\n",
       "      <td>103.761433457236</td>\n",
       "      <td>240</td>\n",
       "      <td>0.083620</td>\n",
       "      <td>0.010762</td>\n",
       "      <td>0.072858</td>\n",
       "    </tr>\n",
       "  </tbody>\n",
       "</table>\n",
       "<p>80 rows × 6 columns</p>\n",
       "</div>"
      ],
      "text/plain": [
       "                  lat                lng  heading      pred        gt  \\\n",
       "0   1.464214838923537  103.7680466183046      120  0.086347  0.141582   \n",
       "1    1.45906910621281  103.7668877466677      180  0.018569  0.000000   \n",
       "2   1.463961299646011  103.7717313271459      180  0.154015  0.197325   \n",
       "3   1.467388080645603  103.7654123835077        0  0.025451  0.040079   \n",
       "4    1.46385196757463  103.7714928793899      180  0.052868  0.000000   \n",
       "..                ...                ...      ...       ...       ...   \n",
       "75  1.461623873936034  103.7626822794463      180  0.143442  0.091996   \n",
       "76  1.471528068901578  103.7667682176015      120  0.186192  0.234116   \n",
       "77          1.4586617        103.7687351        0  0.006767  0.000000   \n",
       "78   1.46526614898588  103.7697100603857        0  0.480197  0.431780   \n",
       "79  1.465542948619651   103.761433457236      240  0.083620  0.010762   \n",
       "\n",
       "        diff  \n",
       "0   0.055235  \n",
       "1   0.018569  \n",
       "2   0.043310  \n",
       "3   0.014628  \n",
       "4   0.052868  \n",
       "..       ...  \n",
       "75  0.051446  \n",
       "76  0.047924  \n",
       "77  0.006767  \n",
       "78  0.048417  \n",
       "79  0.072858  \n",
       "\n",
       "[80 rows x 6 columns]"
      ]
     },
     "execution_count": 25,
     "metadata": {},
     "output_type": "execute_result"
    }
   ],
   "source": [
    "DCNN_prediction = pd.concat([test_metadata, pd.Series(pred_ts.flatten()), pd.Series(y_test_GVI)], \n",
    "                            axis=1)\n",
    "DCNN_prediction = DCNN_prediction.rename(columns={0: 'pred', 1: 'gt'})\n",
    "DCNN_prediction['diff'] = (DCNN_prediction['gt'] - DCNN_prediction['pred']).abs()\n",
    "DCNN_prediction"
   ]
  },
  {
   "cell_type": "code",
   "execution_count": null,
   "metadata": {},
   "outputs": [],
   "source": []
  },
  {
   "cell_type": "code",
   "execution_count": 26,
   "metadata": {},
   "outputs": [],
   "source": [
    "DCNN_prediction['diff_with_sign'] = DCNN_prediction['pred'] - DCNN_prediction['gt']"
   ]
  },
  {
   "cell_type": "code",
   "execution_count": 27,
   "metadata": {},
   "outputs": [
    {
     "data": {
      "text/plain": [
       "Text(0.5, 1.0, 'Investigating bias (DCNN)')"
      ]
     },
     "execution_count": 27,
     "metadata": {},
     "output_type": "execute_result"
    },
    {
     "data": {
      "image/png": "[encoded data removed]",
      "text/plain": [
       "<Figure size 640x480 with 1 Axes>"
      ]
     },
     "metadata": {},
     "output_type": "display_data"
    }
   ],
   "source": [
    "# Create a figure and axes\n",
    "fig, ax = plt.subplots()\n",
    "\n",
    "# Plot the data\n",
    "ax.scatter(DCNN_prediction['pred'], DCNN_prediction['diff_with_sign'])\n",
    "\n",
    "# Move the y-axis to x=0\n",
    "ax.spines['bottom'].set_position(('data', 0))\n",
    "# Remove the right and top spines\n",
    "ax.spines['right'].set_visible(False)\n",
    "ax.spines['top'].set_visible(False)\n",
    "\n",
    "ax.set_xlabel(\"GVI prediction\", labelpad=100)\n",
    "ax.set_ylabel(\"Error (Prediction - true GVI)\")\n",
    "ax.set_title(\"Investigating bias (DCNN)\")"
   ]
  },
  {
   "cell_type": "code",
   "execution_count": 10,
   "metadata": {},
   "outputs": [],
   "source": [
    "DCNN_prediction.loc[DCNN_prediction['pred'] < DCNN_prediction['gt'], 'estimation'] = 'underestimation'\n",
    "DCNN_prediction.loc[DCNN_prediction['pred'] == DCNN_prediction['gt'], 'estimation'] = 'accurate estimation'\n",
    "DCNN_prediction.loc[DCNN_prediction['pred'] > DCNN_prediction['gt'], 'estimation'] = 'overestimation'"
   ]
  },
  {
   "cell_type": "code",
   "execution_count": 12,
   "metadata": {},
   "outputs": [
    {
     "data": {
      "text/plain": [
       "overestimation     41\n",
       "underestimation    39\n",
       "Name: estimation, dtype: int64"
      ]
     },
     "execution_count": 12,
     "metadata": {},
     "output_type": "execute_result"
    }
   ],
   "source": [
    "DCNN_prediction.estimation.value_counts()"
   ]
  },
  {
   "cell_type": "code",
   "execution_count": 22,
   "metadata": {},
   "outputs": [
    {
     "data": {
      "text/html": [
       "<div>\n",
       "<style scoped>\n",
       "    .dataframe tbody tr th:only-of-type {\n",
       "        vertical-align: middle;\n",
       "    }\n",
       "\n",
       "    .dataframe tbody tr th {\n",
       "        vertical-align: top;\n",
       "    }\n",
       "\n",
       "    .dataframe thead th {\n",
       "        text-align: right;\n",
       "    }\n",
       "</style>\n",
       "<table border=\"1\" class=\"dataframe\">\n",
       "  <thead>\n",
       "    <tr style=\"text-align: right;\">\n",
       "      <th></th>\n",
       "      <th>pred</th>\n",
       "      <th>estimation</th>\n",
       "      <th>count</th>\n",
       "    </tr>\n",
       "  </thead>\n",
       "  <tbody>\n",
       "    <tr>\n",
       "      <th>0</th>\n",
       "      <td>(0.00597, 0.206]</td>\n",
       "      <td>overestimation</td>\n",
       "      <td>20</td>\n",
       "    </tr>\n",
       "    <tr>\n",
       "      <th>1</th>\n",
       "      <td>(0.00597, 0.206]</td>\n",
       "      <td>underestimation</td>\n",
       "      <td>17</td>\n",
       "    </tr>\n",
       "    <tr>\n",
       "      <th>2</th>\n",
       "      <td>(0.206, 0.405]</td>\n",
       "      <td>overestimation</td>\n",
       "      <td>6</td>\n",
       "    </tr>\n",
       "    <tr>\n",
       "      <th>3</th>\n",
       "      <td>(0.206, 0.405]</td>\n",
       "      <td>underestimation</td>\n",
       "      <td>10</td>\n",
       "    </tr>\n",
       "    <tr>\n",
       "      <th>4</th>\n",
       "      <td>(0.405, 0.604]</td>\n",
       "      <td>overestimation</td>\n",
       "      <td>9</td>\n",
       "    </tr>\n",
       "    <tr>\n",
       "      <th>5</th>\n",
       "      <td>(0.405, 0.604]</td>\n",
       "      <td>underestimation</td>\n",
       "      <td>9</td>\n",
       "    </tr>\n",
       "    <tr>\n",
       "      <th>6</th>\n",
       "      <td>(0.604, 0.803]</td>\n",
       "      <td>overestimation</td>\n",
       "      <td>6</td>\n",
       "    </tr>\n",
       "    <tr>\n",
       "      <th>7</th>\n",
       "      <td>(0.604, 0.803]</td>\n",
       "      <td>underestimation</td>\n",
       "      <td>3</td>\n",
       "    </tr>\n",
       "  </tbody>\n",
       "</table>\n",
       "</div>"
      ],
      "text/plain": [
       "               pred       estimation  count\n",
       "0  (0.00597, 0.206]   overestimation     20\n",
       "1  (0.00597, 0.206]  underestimation     17\n",
       "2    (0.206, 0.405]   overestimation      6\n",
       "3    (0.206, 0.405]  underestimation     10\n",
       "4    (0.405, 0.604]   overestimation      9\n",
       "5    (0.405, 0.604]  underestimation      9\n",
       "6    (0.604, 0.803]   overestimation      6\n",
       "7    (0.604, 0.803]  underestimation      3"
      ]
     },
     "execution_count": 22,
     "metadata": {},
     "output_type": "execute_result"
    }
   ],
   "source": [
    "grouped_df = pd.DataFrame(DCNN_prediction.groupby([bins, 'estimation']).size()).reset_index().rename(columns={0: 'count'})\n",
    "grouped_df.pred = grouped_df.pred.astype(str)\n",
    "grouped_df"
   ]
  },
  {
   "cell_type": "code",
   "execution_count": 28,
   "metadata": {},
   "outputs": [
    {
     "data": {
      "text/plain": [
       "Text(0.5, 1.0, 'Error analysis of GVI prediction predictions by bins (DCNN)')"
      ]
     },
     "execution_count": 28,
     "metadata": {},
     "output_type": "execute_result"
    },
    {
     "data": {
      "image/png": "[encoded data removed]",
      "text/plain": [
       "<Figure size 800x500 with 1 Axes>"
      ]
     },
     "metadata": {},
     "output_type": "display_data"
    }
   ],
   "source": [
    "import pandas as pd\n",
    "import matplotlib.pyplot as plt\n",
    "import seaborn as sns\n",
    "# Assuming you have the grouped_df DataFrame with two levels of index\n",
    "# grouped_df = ...\n",
    "\n",
    "# Plot the bar chart\n",
    "fig, ax = plt.subplots(figsize=(8, 5))\n",
    "plt.show = sns.barplot( data=grouped_df, hue='estimation', x='count', y='pred', orient='h', dodge=True, ax=ax)\n",
    "\n",
    "#ax.set_yticklabels(grouped_df[['pred']].astype(str))\n",
    "ax.set_xlabel('Count')\n",
    "ax.set_ylabel('GVI prediction bins')\n",
    "ax.set_title('Error analysis of GVI prediction predictions by bins (DCNN)')\n"
   ]
  },
  {
   "cell_type": "code",
   "execution_count": 21,
   "metadata": {},
   "outputs": [
    {
     "data": {
      "text/plain": [
       "pred              estimation     \n",
       "(0.00597, 0.206]  overestimation     20\n",
       "                  underestimation    17\n",
       "(0.206, 0.405]    overestimation      6\n",
       "                  underestimation    10\n",
       "(0.405, 0.604]    overestimation      9\n",
       "                  underestimation     9\n",
       "(0.604, 0.803]    overestimation      6\n",
       "                  underestimation     3\n",
       "dtype: int64"
      ]
     },
     "execution_count": 21,
     "metadata": {},
     "output_type": "execute_result"
    }
   ],
   "source": [
    "import pandas as pd\n",
    "\n",
    "\n",
    "# Create bins using pd.cut\n",
    "bins = pd.cut(DCNN_prediction['pred'], bins=4)\n",
    "\n",
    "# Group by bins and count\n",
    "grouped_df = DCNN_prediction.groupby([bins, 'estimation']).size()\n",
    "\n",
    "grouped_df"
   ]
  },
  {
   "cell_type": "code",
   "execution_count": 9,
   "metadata": {},
   "outputs": [],
   "source": [
    "#DCNN_prediction.to_csv(\"data/output_data/DCNN_test_evaluation.csv\")"
   ]
  }
 ],
 "metadata": {
  "kernelspec": {
   "display_name": "py310",
   "language": "python",
   "name": "python3"
  },
  "language_info": {
   "codemirror_mode": {
    "name": "ipython",
    "version": 3
   },
   "file_extension": ".py",
   "mimetype": "text/x-python",
   "name": "python",
   "nbconvert_exporter": "python",
   "pygments_lexer": "ipython3",
   "version": "3.10.4"
  },
  "orig_nbformat": 4
 },
 "nbformat": 4,
 "nbformat_minor": 2
}
