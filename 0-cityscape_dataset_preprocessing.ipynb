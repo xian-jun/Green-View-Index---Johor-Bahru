{
 "cells": [
  {
   "cell_type": "code",
   "execution_count": 1,
   "metadata": {},
   "outputs": [],
   "source": [
    "import os\n",
    "import numpy as np\n",
    "import pandas as pd\n",
    "\n",
    "from PIL import Image"
   ]
  },
  {
   "attachments": {},
   "cell_type": "markdown",
   "metadata": {},
   "source": [
    "# retrieve the images paths (color and leftimg8bit)"
   ]
  },
  {
   "cell_type": "code",
   "execution_count": 2,
   "metadata": {},
   "outputs": [],
   "source": [
    "def extract_cityscape_label_img_paths(path):\n",
    "\n",
    "    cityscape_lbl_img_paths = []\n",
    "    for root, dirs, files in os.walk(path):\n",
    "        if \"\\\\\" in root:\n",
    "            #print(root)\n",
    "            for file in files:\n",
    "                if \"color\" in file:\n",
    "                    cityscape_lbl_img_paths.append(os.path.join(root, file))\n",
    "\n",
    "    return cityscape_lbl_img_paths\n",
    "\n",
    "gtfine_train_path = extract_cityscape_label_img_paths('C://Users/Admin/Desktop/000-data_science/sem2-project_1/images/cityscape_img/gtFine/train')\n",
    "gtfine_valid_path = extract_cityscape_label_img_paths('C://Users/Admin/Desktop/000-data_science/sem2-project_1/images/cityscape_img/gtFine/val')"
   ]
  },
  {
   "cell_type": "code",
   "execution_count": 3,
   "metadata": {},
   "outputs": [],
   "source": [
    "def get_leftimg(path):\n",
    "    leftimg_files = []\n",
    "    for root, dirs, files in os.walk(path):\n",
    "        #print(root)\n",
    "        for file in files:\n",
    "            leftimg_files.append(os.path.join(root, file))\n",
    "\n",
    "    return leftimg_files\n",
    "\n",
    "leftimg_train_file_paths = get_leftimg(\"C://Users/Admin/Desktop/000-data_science/sem2-project_1/images/cityscape_img/leftImg8bit/train\")\n",
    "leftimg_val_file_paths = get_leftimg(\"C://Users/Admin/Desktop/000-data_science/sem2-project_1/images/cityscape_img/leftImg8bit/val\")"
   ]
  },
  {
   "cell_type": "code",
   "execution_count": 4,
   "metadata": {},
   "outputs": [
    {
     "data": {
      "text/plain": [
       "'C://Users/Admin/Desktop/000-data_science/sem2-project_1/images/cityscape_img/gtFine/train\\\\aachen\\\\aachen_000000_000019_gtFine_color.png'"
      ]
     },
     "execution_count": 4,
     "metadata": {},
     "output_type": "execute_result"
    }
   ],
   "source": [
    "# train pair\n",
    "cityscape_train_img_lbl_pair = []\n",
    "for lbl, img in zip(sorted(gtfine_train_path), sorted(leftimg_train_file_paths)):\n",
    "    cityscape_train_img_lbl_pair.append([img, lbl])\n",
    "\n",
    "cityscape_train_img_lbl_pair[0][1]"
   ]
  },
  {
   "cell_type": "code",
   "execution_count": 5,
   "metadata": {},
   "outputs": [
    {
     "data": {
      "text/plain": [
       "['C://Users/Admin/Desktop/000-data_science/sem2-project_1/images/cityscape_img/leftImg8bit/val\\\\frankfurt\\\\frankfurt_000000_000294_leftImg8bit.png',\n",
       " 'C://Users/Admin/Desktop/000-data_science/sem2-project_1/images/cityscape_img/gtFine/val\\\\frankfurt\\\\frankfurt_000000_000294_gtFine_color.png']"
      ]
     },
     "execution_count": 5,
     "metadata": {},
     "output_type": "execute_result"
    }
   ],
   "source": [
    "# validation pair\n",
    "cityscape_val_img_lbl_pair = []\n",
    "for lbl, img in zip(sorted(gtfine_valid_path), sorted(leftimg_val_file_paths)):\n",
    "    cityscape_val_img_lbl_pair.append([img, lbl])\n",
    "\n",
    "cityscape_val_img_lbl_pair[0]"
   ]
  },
  {
   "attachments": {},
   "cell_type": "markdown",
   "metadata": {},
   "source": [
    "# Load to array"
   ]
  },
  {
   "cell_type": "code",
   "execution_count": 6,
   "metadata": {},
   "outputs": [],
   "source": [
    "def reformat_and_load_arr(path_list, raw_or_lbl):\n",
    "    \"\"\"\n",
    "    from path list, load all images and resize and convert to jpg. Then load into a list of arrays.\n",
    "    \"\"\"\n",
    "    img_list = []\n",
    "    for i, img_path in enumerate(path_list):\n",
    "        img_arr = np.asarray(Image.open(img_path[raw_or_lbl]))[:, :, :3]   # resize will change the \n",
    "        img_list.append(img_arr.copy())  \n",
    "\n",
    "    return img_list\n",
    "\n"
   ]
  },
  {
   "cell_type": "code",
   "execution_count": 7,
   "metadata": {},
   "outputs": [],
   "source": [
    "# reformat and load train data into list of array\n",
    "train_img_lbl = reformat_and_load_arr(cityscape_train_img_lbl_pair, 1)\n",
    "train_img_raw = reformat_and_load_arr(cityscape_train_img_lbl_pair, 0)"
   ]
  },
  {
   "cell_type": "code",
   "execution_count": 8,
   "metadata": {},
   "outputs": [],
   "source": [
    "# reformat and load valid image data into list of array\n",
    "val_img_lbl = reformat_and_load_arr(cityscape_val_img_lbl_pair, 1)\n",
    "val_img_raw = reformat_and_load_arr(cityscape_val_img_lbl_pair, 0)"
   ]
  },
  {
   "cell_type": "code",
   "execution_count": 9,
   "metadata": {},
   "outputs": [
    {
     "data": {
      "text/plain": [
       "500"
      ]
     },
     "execution_count": 9,
     "metadata": {},
     "output_type": "execute_result"
    }
   ],
   "source": [
    "len(val_img_lbl)"
   ]
  },
  {
   "cell_type": "code",
   "execution_count": 10,
   "metadata": {},
   "outputs": [
    {
     "data": {
      "text/plain": [
       "<matplotlib.image.AxesImage at 0x21fd4b4ed10>"
      ]
     },
     "execution_count": 10,
     "metadata": {},
     "output_type": "execute_result"
    },
    {
     "data": {
      "image/png": "[encoded data removed]",
      "text/plain": [
       "<Figure size 640x480 with 1 Axes>"
      ]
     },
     "metadata": {},
     "output_type": "display_data"
    }
   ],
   "source": [
    "import matplotlib.pyplot as plt\n",
    "plt.imshow(train_img_lbl[1150])"
   ]
  },
  {
   "cell_type": "code",
   "execution_count": 18,
   "metadata": {},
   "outputs": [],
   "source": [
    "def save_as_npz(file_path, list_of_array):\n",
    "    # Convert the list of arrays to a dictionary\n",
    "    arrays_dict = {f'array_{i}': arr for i, arr in enumerate(list_of_array)}\n",
    "\n",
    "    # Save the dictionary of arrays using np.savez\n",
    "    np.savez(file_path, **arrays_dict)"
   ]
  },
  {
   "cell_type": "code",
   "execution_count": 12,
   "metadata": {},
   "outputs": [],
   "source": [
    "save_as_npz('cityscape_train_raw.npz', train_img_raw)\n",
    "save_as_npz('cityscape_train_lbl_unprocessed.npz', train_img_lbl)"
   ]
  },
  {
   "cell_type": "code",
   "execution_count": 13,
   "metadata": {},
   "outputs": [],
   "source": [
    "save_as_npz('cityscape_val_raw.npz', val_img_raw)\n",
    "save_as_npz('cityscape_val_lbl_unprocessed.npz', val_img_lbl)"
   ]
  },
  {
   "attachments": {},
   "cell_type": "markdown",
   "metadata": {},
   "source": [
    "# change label to green / non-green binary mask"
   ]
  },
  {
   "cell_type": "code",
   "execution_count": 20,
   "metadata": {},
   "outputs": [],
   "source": [
    "cityscape_train_lbl = np.load('cityscape_train_lbl_unprocessed.npz')\n",
    "cityscape_train_raw = np.load('cityscape_train_raw.npz')\n",
    "\n",
    "cityscape_val_lbl = np.load('cityscape_val_lbl_unprocessed.npz')\n",
    "cityscape_val_raw = np.load('cityscape_val_raw.npz')"
   ]
  },
  {
   "cell_type": "code",
   "execution_count": 4,
   "metadata": {},
   "outputs": [
    {
     "name": "stdout",
     "output_type": "stream",
     "text": [
      "[0 0 0]\n",
      "[  0   0 142]\n",
      "[70 70 70]\n",
      "[ 70 130 180]\n",
      "[107 142  35]\n",
      "[128  64 128]\n",
      "[153 153 153]\n",
      "[190 153 153]\n",
      "[220  20  60]\n",
      "[220 220   0]\n",
      "[244  35 232]\n"
     ]
    }
   ],
   "source": [
    "# get unique colors for vegetation and terrain (nature)\n",
    "image_2d = cityscape_val_lbl['array_0'].reshape(-1, 3)\n",
    "#image_2d = val_img_lbl[0].reshape(-1, 4)\n",
    "\n",
    "# Reshape the image to a 2D array\n",
    "#image_2d = image.reshape(-1, 4)\n",
    "\n",
    "# Get the unique color combinations\n",
    "unique_colors = np.unique(image_2d, axis=0)\n",
    "\n",
    "# Print the unique colors\n",
    "for color in unique_colors:\n",
    "    print(color)"
   ]
  },
  {
   "cell_type": "code",
   "execution_count": 16,
   "metadata": {},
   "outputs": [
    {
     "data": {
      "image/png": "[encoded data removed]",
      "text/plain": [
       "<Figure size 640x480 with 1 Axes>"
      ]
     },
     "metadata": {},
     "output_type": "display_data"
    }
   ],
   "source": [
    "import matplotlib.pyplot as plt\n",
    "\n",
    "# Create an image with the unique colors\n",
    "color_image = np.zeros((1, len(unique_colors), 3), dtype=np.uint8)\n",
    "color_image[0] = unique_colors\n",
    "\n",
    "# Display the unique colors\n",
    "plt.imshow(color_image)\n",
    "plt.axis('off')\n",
    "plt.show()"
   ]
  },
  {
   "cell_type": "code",
   "execution_count": 68,
   "metadata": {},
   "outputs": [],
   "source": []
  },
  {
   "cell_type": "code",
   "execution_count": 10,
   "metadata": {},
   "outputs": [],
   "source": [
    "def get_bw_lbl(npz_file):\n",
    "    # Define the target channel values and the new values\n",
    "    target_values = [[107, 142, 35], [152, 251, 152]]\n",
    "    new_value = [255, 255, 255]\n",
    "    other_value = [0, 0, 0]\n",
    "\n",
    "    bw_lbl = []\n",
    "    for file in npz_file.files:\n",
    "        image = npz_file[file] \n",
    "\n",
    "        # Create a Boolean mask for the target values\n",
    "        mask = np.logical_or.reduce([np.all(image == value, axis=2) for value in target_values])   # logical_or.reduce is to combine list of 2 arrays in a single array\n",
    "\n",
    "        # Set the pixels with the target values to the new value\n",
    "        image[mask] = new_value\n",
    "\n",
    "        # Set the other pixels to the other value\n",
    "        image[~mask] = other_value\n",
    "\n",
    "        bw_lbl.append(image)\n",
    "\n",
    "    return bw_lbl"
   ]
  },
  {
   "cell_type": "code",
   "execution_count": 11,
   "metadata": {},
   "outputs": [],
   "source": [
    "train_lbl_bw= get_bw_lbl(cityscape_train_lbl)"
   ]
  },
  {
   "cell_type": "code",
   "execution_count": 14,
   "metadata": {},
   "outputs": [],
   "source": [
    "save_as_npz('cityscape_train_lbl_bw.npz', train_lbl_bw)"
   ]
  },
  {
   "cell_type": "code",
   "execution_count": 15,
   "metadata": {},
   "outputs": [],
   "source": [
    "val_lbl_bw = get_bw_lbl(cityscape_val_lbl)\n",
    "save_as_npz('cityscape_val_lbl_bw.npz', val_lbl_bw)"
   ]
  },
  {
   "cell_type": "code",
   "execution_count": 1,
   "metadata": {},
   "outputs": [],
   "source": [
    "# make into 1 channel\n",
    "import numpy as np\n",
    "\n",
    "def change_to_1channel(npz_file):\n",
    "    x = np.load(npz_file)\n",
    "    lbl_1chan = []\n",
    "    for file in x.files:\n",
    "        lbl_1chan.append(x[file][:, :, 0])\n",
    "\n",
    "    return lbl_1chan\n",
    "\n",
    "train_lbl_1chan = change_to_1channel('cityscape_train_lbl_bw.npz')\n",
    "val_lbl_1chan = change_to_1channel('cityscape_val_lbl_bw.npz')"
   ]
  },
  {
   "cell_type": "code",
   "execution_count": 3,
   "metadata": {},
   "outputs": [
    {
     "data": {
      "text/plain": [
       "(512, 1024)"
      ]
     },
     "execution_count": 3,
     "metadata": {},
     "output_type": "execute_result"
    }
   ],
   "source": [
    "from PIL import Image\n",
    "np.asarray(Image.fromarray(val_lbl_1chan[0]).resize((1024, 512))).shape"
   ]
  },
  {
   "cell_type": "code",
   "execution_count": 12,
   "metadata": {},
   "outputs": [],
   "source": [
    "from PIL import Image\n",
    "\n",
    "def rescale_and_clip_img(list_of_array):\n",
    "    list_of_arrays = list_of_array.copy()\n",
    "    \n",
    "    for i, arr in enumerate(list_of_arrays):\n",
    "        x = np.asarray(Image.fromarray(arr).resize((1024, 512))).copy()\n",
    "        x[x < 100] = 0\n",
    "        x[x >= 100] = 1\n",
    "\n",
    "        left_clip = np.random.randint(0, 512)\n",
    "        list_of_arrays[i] = x[:, left_clip : left_clip + 512 ]\n",
    "\n",
    "    return list_of_arrays\n",
    "\n",
    "final_train_lbl = rescale_and_clip_img(train_lbl_1chan)\n",
    "final_val_lbl = rescale_and_clip_img(val_lbl_1chan)"
   ]
  },
  {
   "cell_type": "code",
   "execution_count": 19,
   "metadata": {},
   "outputs": [],
   "source": [
    "save_as_npz('cityscape_train_lbl_final.npz', final_train_lbl)\n",
    "save_as_npz('cityscape_tval_lbl_final.npz', final_val_lbl)"
   ]
  },
  {
   "cell_type": "code",
   "execution_count": 24,
   "metadata": {},
   "outputs": [],
   "source": [
    "cityscape_train_raw = np.load('cityscape_train_raw.npz')\n",
    "cityscape_val_raw = np.load('cityscape_val_raw.npz')\n",
    "\n",
    "def rescale_img_raw(npz_file):\n",
    "\n",
    "    final_raw_img = []\n",
    "    for file in npz_file.files:\n",
    "        x = np.asarray(Image.fromarray(npz_file[file]).resize((1024, 512))).copy()\n",
    "        left_clip = np.random.randint(0, 512)\n",
    "        final_raw_img.append(x[:, left_clip : left_clip + 512 ])\n",
    "\n",
    "    return final_raw_img"
   ]
  },
  {
   "cell_type": "code",
   "execution_count": 25,
   "metadata": {},
   "outputs": [],
   "source": [
    "final_train_raw = rescale_img_raw(cityscape_train_raw)\n",
    "final_val_raw = rescale_img_raw(cityscape_val_raw)"
   ]
  },
  {
   "cell_type": "code",
   "execution_count": 30,
   "metadata": {},
   "outputs": [],
   "source": [
    "save_as_npz('cityscape_train_raw_final.npz', final_train_raw)\n",
    "save_as_npz('cityscape_val_raw_final.npz', final_val_raw)"
   ]
  },
  {
   "cell_type": "code",
   "execution_count": 29,
   "metadata": {},
   "outputs": [
    {
     "data": {
      "text/plain": [
       "<matplotlib.image.AxesImage at 0x22c1e3cca00>"
      ]
     },
     "execution_count": 29,
     "metadata": {},
     "output_type": "execute_result"
    },
    {
     "data": {
      "image/png": "[encoded data removed]",
      "text/plain": [
       "<Figure size 640x480 with 1 Axes>"
      ]
     },
     "metadata": {},
     "output_type": "display_data"
    }
   ],
   "source": [
    "import matplotlib.pyplot as plt\n",
    "\n",
    "plt.imshow(final_train_lbl[152])"
   ]
  },
  {
   "cell_type": "code",
   "execution_count": 97,
   "metadata": {},
   "outputs": [],
   "source": [
    "for i in range(len(bw_lbl_1chan)):\n",
    "    left_clip = np.random.randint(0, 512)\n",
    "    bw_lbl_1chan[i] = bw_lbl_1chan[i][:, left_clip : left_clip + 512 ]"
   ]
  },
  {
   "cell_type": "code",
   "execution_count": 101,
   "metadata": {},
   "outputs": [],
   "source": [
    "# Convert the list of arrays to a dictionary\n",
    "arrays_dict = {f'array_{i}': arr for i, arr in enumerate(bw_lbl_1chan)}\n",
    "\n",
    "# Save the dictionary of arrays using np.savez\n",
    "np.savez('cityscape_train_lbl.npz', **arrays_dict)"
   ]
  },
  {
   "cell_type": "code",
   "execution_count": 98,
   "metadata": {},
   "outputs": [
    {
     "data": {
      "text/plain": [
       "<matplotlib.image.AxesImage at 0x20e14cf10f0>"
      ]
     },
     "execution_count": 98,
     "metadata": {},
     "output_type": "execute_result"
    },
    {
     "data": {
      "image/png": "[encoded data removed]",
      "text/plain": [
       "<Figure size 640x480 with 1 Axes>"
      ]
     },
     "metadata": {},
     "output_type": "display_data"
    }
   ],
   "source": [
    "plt.imshow(bw_lbl_1chan[35])"
   ]
  },
  {
   "attachments": {},
   "cell_type": "markdown",
   "metadata": {},
   "source": [
    "# clip images to form images of appropriate shape for HRNet-OCR"
   ]
  },
  {
   "cell_type": "code",
   "execution_count": 67,
   "metadata": {},
   "outputs": [],
   "source": [
    "import tensorflow as tf\n",
    "\n",
    "model = tf.keras.models.load_model(\"treepedia_dl_public-master/weights_test.hdf5\")"
   ]
  },
  {
   "cell_type": "code",
   "execution_count": null,
   "metadata": {},
   "outputs": [],
   "source": [
    "# Create a new input layer\n",
    "input_layer = tf.keras.layers.Input(shape=(224, 224, 3))\n",
    "\n",
    "# Connect the input layer to the pretrained model's layers\n",
    "output = pretrained_model(input_layer)\n",
    "\n",
    "# Create the new model with the input layer and pretrained model's layers\n",
    "model = tf.keras.Model(inputs=input_layer, outputs=output)\n",
    "\n",
    "# Print the model summary\n",
    "model.summary()"
   ]
  },
  {
   "cell_type": "code",
   "execution_count": 72,
   "metadata": {},
   "outputs": [],
   "source": [
    "from tensorflow.keras.models import Model\n",
    "from tensorflow.keras.layers import Input\n",
    "\n",
    "new_input = Input(shape=(224, 224, 3))\n",
    "#first_layer = model.layers[0](new_input)\n",
    "output = model(new_input) # Get the last layer of the existing model\n",
    "new_model = Model(inputs=new_input, outputs=output)\n"
   ]
  },
  {
   "cell_type": "code",
   "execution_count": 73,
   "metadata": {},
   "outputs": [
    {
     "name": "stdout",
     "output_type": "stream",
     "text": [
      "Model: \"model_3\"\n",
      "_________________________________________________________________\n",
      " Layer (type)                Output Shape              Param #   \n",
      "=================================================================\n",
      " input_4 (InputLayer)        [(None, 224, 224, 3)]     0         \n",
      "                                                                 \n",
      " sequential_2 (Sequential)   (None, 1)                 26090601  \n",
      "                                                                 \n",
      "=================================================================\n",
      "Total params: 26,090,601\n",
      "Trainable params: 26,037,481\n",
      "Non-trainable params: 53,120\n",
      "_________________________________________________________________\n"
     ]
    }
   ],
   "source": [
    "new_model.summary()"
   ]
  },
  {
   "cell_type": "code",
   "execution_count": 75,
   "metadata": {},
   "outputs": [],
   "source": [
    "model = torch.load(\"C://Users/Admin/Downloads/hrnet_ocr_ade20k_4451_torch04.pth\")"
   ]
  },
  {
   "cell_type": "code",
   "execution_count": 80,
   "metadata": {},
   "outputs": [
    {
     "ename": "TypeError",
     "evalue": "'collections.OrderedDict' object is not callable",
     "output_type": "error",
     "traceback": [
      "\u001b[1;31m---------------------------------------------------------------------------\u001b[0m",
      "\u001b[1;31mTypeError\u001b[0m                                 Traceback (most recent call last)",
      "\u001b[1;32mc:\\Users\\Admin\\Desktop\\000-data_science\\sem2-project_1\\cityscape_dataset_preprocessing.ipynb Cell 20\u001b[0m in \u001b[0;36m3\n\u001b[0;32m      <a href='vscode-notebook-cell:/c%3A/Users/Admin/Desktop/000-data_science/sem2-project_1/cityscape_dataset_preprocessing.ipynb#X33sZmlsZQ%3D%3D?line=0'>1</a>\u001b[0m \u001b[39m# Create a Keras model with the same architecture as the PyTorch model\u001b[39;00m\n\u001b[0;32m      <a href='vscode-notebook-cell:/c%3A/Users/Admin/Desktop/000-data_science/sem2-project_1/cityscape_dataset_preprocessing.ipynb#X33sZmlsZQ%3D%3D?line=1'>2</a>\u001b[0m input_tensor \u001b[39m=\u001b[39m Input(shape\u001b[39m=\u001b[39m(\u001b[39m3\u001b[39m, \u001b[39m224\u001b[39m, \u001b[39m224\u001b[39m))  \u001b[39m# Replace with the appropriate input shape\u001b[39;00m\n\u001b[1;32m----> <a href='vscode-notebook-cell:/c%3A/Users/Admin/Desktop/000-data_science/sem2-project_1/cityscape_dataset_preprocessing.ipynb#X33sZmlsZQ%3D%3D?line=2'>3</a>\u001b[0m keras_model \u001b[39m=\u001b[39m Model(inputs\u001b[39m=\u001b[39minput_tensor, outputs\u001b[39m=\u001b[39mmodel(input_tensor))\n\u001b[0;32m      <a href='vscode-notebook-cell:/c%3A/Users/Admin/Desktop/000-data_science/sem2-project_1/cityscape_dataset_preprocessing.ipynb#X33sZmlsZQ%3D%3D?line=4'>5</a>\u001b[0m \u001b[39m# Save the Keras model to an .h5 file\u001b[39;00m\n\u001b[0;32m      <a href='vscode-notebook-cell:/c%3A/Users/Admin/Desktop/000-data_science/sem2-project_1/cityscape_dataset_preprocessing.ipynb#X33sZmlsZQ%3D%3D?line=5'>6</a>\u001b[0m keras_model\u001b[39m.\u001b[39msave(\u001b[39m'\u001b[39m\u001b[39mpytorch_model.h5\u001b[39m\u001b[39m'\u001b[39m)\n",
      "\u001b[1;31mTypeError\u001b[0m: 'collections.OrderedDict' object is not callable"
     ]
    }
   ],
   "source": [
    "# Create a Keras model with the same architecture as the PyTorch model\n",
    "input_tensor = Input(shape=(3, 224, 224))  # Replace with the appropriate input shape\n",
    "keras_model = Model(inputs=input_tensor, outputs=model(input_tensor))\n",
    "\n",
    "# Save the Keras model to an .h5 file\n",
    "keras_model.save('pytorch_model.h5')"
   ]
  },
  {
   "cell_type": "code",
   "execution_count": 74,
   "metadata": {},
   "outputs": [
    {
     "ename": "FileNotFoundError",
     "evalue": "[Errno 2] No such file or directory: 'model.pth'",
     "output_type": "error",
     "traceback": [
      "\u001b[1;31m---------------------------------------------------------------------------\u001b[0m",
      "\u001b[1;31mFileNotFoundError\u001b[0m                         Traceback (most recent call last)",
      "\u001b[1;32mc:\\Users\\Admin\\Desktop\\000-data_science\\sem2-project_1\\cityscape_dataset_preprocessing.ipynb Cell 19\u001b[0m in \u001b[0;36m9\n\u001b[0;32m      <a href='vscode-notebook-cell:/c%3A/Users/Admin/Desktop/000-data_science/sem2-project_1/cityscape_dataset_preprocessing.ipynb#X31sZmlsZQ%3D%3D?line=6'>7</a>\u001b[0m \u001b[39m# Load the PyTorch model from the .pth file\u001b[39;00m\n\u001b[0;32m      <a href='vscode-notebook-cell:/c%3A/Users/Admin/Desktop/000-data_science/sem2-project_1/cityscape_dataset_preprocessing.ipynb#X31sZmlsZQ%3D%3D?line=7'>8</a>\u001b[0m model \u001b[39m=\u001b[39m resnet18()  \u001b[39m# Replace with your own model architecture\u001b[39;00m\n\u001b[1;32m----> <a href='vscode-notebook-cell:/c%3A/Users/Admin/Desktop/000-data_science/sem2-project_1/cityscape_dataset_preprocessing.ipynb#X31sZmlsZQ%3D%3D?line=8'>9</a>\u001b[0m model\u001b[39m.\u001b[39mload_state_dict(torch\u001b[39m.\u001b[39;49mload(\u001b[39m'\u001b[39;49m\u001b[39mmodel.pth\u001b[39;49m\u001b[39m'\u001b[39;49m))\n\u001b[0;32m     <a href='vscode-notebook-cell:/c%3A/Users/Admin/Desktop/000-data_science/sem2-project_1/cityscape_dataset_preprocessing.ipynb#X31sZmlsZQ%3D%3D?line=10'>11</a>\u001b[0m \u001b[39m# Create a Keras model with the same architecture as the PyTorch model\u001b[39;00m\n\u001b[0;32m     <a href='vscode-notebook-cell:/c%3A/Users/Admin/Desktop/000-data_science/sem2-project_1/cityscape_dataset_preprocessing.ipynb#X31sZmlsZQ%3D%3D?line=11'>12</a>\u001b[0m input_tensor \u001b[39m=\u001b[39m Input(shape\u001b[39m=\u001b[39m(\u001b[39m3\u001b[39m, \u001b[39m224\u001b[39m, \u001b[39m224\u001b[39m))  \u001b[39m# Replace with the appropriate input shape\u001b[39;00m\n",
      "File \u001b[1;32mc:\\Users\\Admin\\anaconda3\\envs\\py310\\lib\\site-packages\\torch\\serialization.py:771\u001b[0m, in \u001b[0;36mload\u001b[1;34m(f, map_location, pickle_module, weights_only, **pickle_load_args)\u001b[0m\n\u001b[0;32m    768\u001b[0m \u001b[39mif\u001b[39;00m \u001b[39m'\u001b[39m\u001b[39mencoding\u001b[39m\u001b[39m'\u001b[39m \u001b[39mnot\u001b[39;00m \u001b[39min\u001b[39;00m pickle_load_args\u001b[39m.\u001b[39mkeys():\n\u001b[0;32m    769\u001b[0m     pickle_load_args[\u001b[39m'\u001b[39m\u001b[39mencoding\u001b[39m\u001b[39m'\u001b[39m] \u001b[39m=\u001b[39m \u001b[39m'\u001b[39m\u001b[39mutf-8\u001b[39m\u001b[39m'\u001b[39m\n\u001b[1;32m--> 771\u001b[0m \u001b[39mwith\u001b[39;00m _open_file_like(f, \u001b[39m'\u001b[39;49m\u001b[39mrb\u001b[39;49m\u001b[39m'\u001b[39;49m) \u001b[39mas\u001b[39;00m opened_file:\n\u001b[0;32m    772\u001b[0m     \u001b[39mif\u001b[39;00m _is_zipfile(opened_file):\n\u001b[0;32m    773\u001b[0m         \u001b[39m# The zipfile reader is going to advance the current file position.\u001b[39;00m\n\u001b[0;32m    774\u001b[0m         \u001b[39m# If we want to actually tail call to torch.jit.load, we need to\u001b[39;00m\n\u001b[0;32m    775\u001b[0m         \u001b[39m# reset back to the original position.\u001b[39;00m\n\u001b[0;32m    776\u001b[0m         orig_position \u001b[39m=\u001b[39m opened_file\u001b[39m.\u001b[39mtell()\n",
      "File \u001b[1;32mc:\\Users\\Admin\\anaconda3\\envs\\py310\\lib\\site-packages\\torch\\serialization.py:270\u001b[0m, in \u001b[0;36m_open_file_like\u001b[1;34m(name_or_buffer, mode)\u001b[0m\n\u001b[0;32m    268\u001b[0m \u001b[39mdef\u001b[39;00m \u001b[39m_open_file_like\u001b[39m(name_or_buffer, mode):\n\u001b[0;32m    269\u001b[0m     \u001b[39mif\u001b[39;00m _is_path(name_or_buffer):\n\u001b[1;32m--> 270\u001b[0m         \u001b[39mreturn\u001b[39;00m _open_file(name_or_buffer, mode)\n\u001b[0;32m    271\u001b[0m     \u001b[39melse\u001b[39;00m:\n\u001b[0;32m    272\u001b[0m         \u001b[39mif\u001b[39;00m \u001b[39m'\u001b[39m\u001b[39mw\u001b[39m\u001b[39m'\u001b[39m \u001b[39min\u001b[39;00m mode:\n",
      "File \u001b[1;32mc:\\Users\\Admin\\anaconda3\\envs\\py310\\lib\\site-packages\\torch\\serialization.py:251\u001b[0m, in \u001b[0;36m_open_file.__init__\u001b[1;34m(self, name, mode)\u001b[0m\n\u001b[0;32m    250\u001b[0m \u001b[39mdef\u001b[39;00m \u001b[39m__init__\u001b[39m(\u001b[39mself\u001b[39m, name, mode):\n\u001b[1;32m--> 251\u001b[0m     \u001b[39msuper\u001b[39m(_open_file, \u001b[39mself\u001b[39m)\u001b[39m.\u001b[39m\u001b[39m__init__\u001b[39m(\u001b[39mopen\u001b[39;49m(name, mode))\n",
      "\u001b[1;31mFileNotFoundError\u001b[0m: [Errno 2] No such file or directory: 'model.pth'"
     ]
    }
   ],
   "source": [
    "import torch\n",
    "from torchvision.models import resnet18\n",
    "import torch.nn as nn\n",
    "from keras.models import Model\n",
    "from keras.layers import Input\n",
    "\n",
    "# Load the PyTorch model from the .pth file\n",
    "model = resnet18()  # Replace with your own model architecture\n",
    "model.load_state_dict(torch.load('model.pth'))\n",
    "\n",
    "# Create a Keras model with the same architecture as the PyTorch model\n",
    "input_tensor = Input(shape=(3, 224, 224))  # Replace with the appropriate input shape\n",
    "keras_model = Model(inputs=input_tensor, outputs=model(input_tensor))\n",
    "\n",
    "# Save the Keras model to an .h5 file\n",
    "keras_model.save('testing_model.h5')\n"
   ]
  }
 ],
 "metadata": {
  "kernelspec": {
   "display_name": "py310",
   "language": "python",
   "name": "python3"
  },
  "language_info": {
   "codemirror_mode": {
    "name": "ipython",
    "version": 3
   },
   "file_extension": ".py",
   "mimetype": "text/x-python",
   "name": "python",
   "nbconvert_exporter": "python",
   "pygments_lexer": "ipython3",
   "version": "3.10.4"
  },
  "orig_nbformat": 4
 },
 "nbformat": 4,
 "nbformat_minor": 2
}
