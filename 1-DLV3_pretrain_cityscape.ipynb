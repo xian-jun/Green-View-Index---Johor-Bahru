{
  "cells": [
    {
      "cell_type": "code",
      "execution_count": null,
      "metadata": {
        "colab": {
          "base_uri": "https://localhost:8080/"
        },
        "id": "gCw_PzHoFPfF",
        "outputId": "2e94ef70-055a-4d8e-b240-f06fb8a12f10"
      },
      "outputs": [
        {
          "name": "stdout",
          "output_type": "stream",
          "text": [
            "Mounted at /content/drive\n"
          ]
        }
      ],
      "source": [
        "#from google.colab import drive\n",
        "#drive.mount('/content/drive')"
      ]
    },
    {
      "cell_type": "code",
      "execution_count": 2,
      "metadata": {
        "id": "PLQvSVKkFENJ"
      },
      "outputs": [],
      "source": [
        "import tensorflow as tf\n",
        "import matplotlib.pyplot as plt\n",
        "import cv2\n",
        "import numpy as np\n",
        "import os\n",
        "from PIL import Image"
      ]
    },
    {
      "attachments": {},
      "cell_type": "markdown",
      "metadata": {
        "id": "To1_Q-FFFegU"
      },
      "source": [
        "# load images\n",
        "\n",
        "Both cityscape and GSV images"
      ]
    },
    {
      "attachments": {},
      "cell_type": "markdown",
      "metadata": {
        "id": "NiFJ63t9FirG"
      },
      "source": [
        "### cityscape images\n",
        "\n",
        "npz files (zip file of numpy arrays)"
      ]
    },
    {
      "cell_type": "code",
      "execution_count": 3,
      "metadata": {
        "id": "-lZgPvTiFzzC"
      },
      "outputs": [
        {
          "ename": "FileNotFoundError",
          "evalue": "[Errno 2] No such file or directory: 'data/input_data/cityscape_npz/cityscape_train_raw_final.npz'",
          "output_type": "error",
          "traceback": [
            "\u001b[1;31m---------------------------------------------------------------------------\u001b[0m",
            "\u001b[1;31mFileNotFoundError\u001b[0m                         Traceback (most recent call last)",
            "\u001b[1;32mc:\\Users\\Admin\\Desktop\\000-data_science\\sem2-project_1\\Copy_of_DLV3_pretrain_cityscape_2.ipynb Cell 5\u001b[0m in \u001b[0;36m1\n\u001b[1;32m----> <a href='vscode-notebook-cell:/c%3A/Users/Admin/Desktop/000-data_science/sem2-project_1/Copy_of_DLV3_pretrain_cityscape_2.ipynb#W4sZmlsZQ%3D%3D?line=0'>1</a>\u001b[0m cityscape_Xtrain \u001b[39m=\u001b[39m np\u001b[39m.\u001b[39;49mload(\u001b[39m\"\u001b[39;49m\u001b[39mdata/input_data/cityscape_npz/cityscape_train_raw_final.npz\u001b[39;49m\u001b[39m\"\u001b[39;49m )\n\u001b[0;32m      <a href='vscode-notebook-cell:/c%3A/Users/Admin/Desktop/000-data_science/sem2-project_1/Copy_of_DLV3_pretrain_cityscape_2.ipynb#W4sZmlsZQ%3D%3D?line=1'>2</a>\u001b[0m cityscape_Xval \u001b[39m=\u001b[39m np\u001b[39m.\u001b[39mload(\u001b[39m\"\u001b[39m\u001b[39mdata/input_data/cityscape_npz/cityscape_val_raw_final.npz\u001b[39m\u001b[39m\"\u001b[39m )\n\u001b[0;32m      <a href='vscode-notebook-cell:/c%3A/Users/Admin/Desktop/000-data_science/sem2-project_1/Copy_of_DLV3_pretrain_cityscape_2.ipynb#W4sZmlsZQ%3D%3D?line=3'>4</a>\u001b[0m cityscape_Ytrain \u001b[39m=\u001b[39m np\u001b[39m.\u001b[39mload(\u001b[39m\"\u001b[39m\u001b[39mdata/input_data/cityscape_npz/cityscape_train_lbl_final.npz\u001b[39m\u001b[39m\"\u001b[39m)\n",
            "File \u001b[1;32mc:\\Users\\Admin\\anaconda3\\envs\\py310\\lib\\site-packages\\numpy\\lib\\npyio.py:390\u001b[0m, in \u001b[0;36mload\u001b[1;34m(file, mmap_mode, allow_pickle, fix_imports, encoding)\u001b[0m\n\u001b[0;32m    388\u001b[0m     own_fid \u001b[39m=\u001b[39m \u001b[39mFalse\u001b[39;00m\n\u001b[0;32m    389\u001b[0m \u001b[39melse\u001b[39;00m:\n\u001b[1;32m--> 390\u001b[0m     fid \u001b[39m=\u001b[39m stack\u001b[39m.\u001b[39menter_context(\u001b[39mopen\u001b[39;49m(os_fspath(file), \u001b[39m\"\u001b[39;49m\u001b[39mrb\u001b[39;49m\u001b[39m\"\u001b[39;49m))\n\u001b[0;32m    391\u001b[0m     own_fid \u001b[39m=\u001b[39m \u001b[39mTrue\u001b[39;00m\n\u001b[0;32m    393\u001b[0m \u001b[39m# Code to distinguish from NumPy binary files and pickles.\u001b[39;00m\n",
            "\u001b[1;31mFileNotFoundError\u001b[0m: [Errno 2] No such file or directory: 'data/input_data/cityscape_npz/cityscape_train_raw_final.npz'"
          ]
        }
      ],
      "source": [
        "cityscape_Xtrain = np.load(\"data/input_data/cityscape_npz/cityscape_train_raw_final.npz\" )\n",
        "cityscape_Xval = np.load(\"data/input_data/cityscape_npz/cityscape_val_raw_final.npz\" )\n",
        "\n",
        "cityscape_Ytrain = np.load(\"data/input_data/cityscape_npz/cityscape_train_lbl_final.npz\")\n",
        "cityscape_Yval = np.load(\"data/input_data/cityscape_npz/cityscape_val_lbl_final.npz\" )"
      ]
    },
    {
      "cell_type": "code",
      "execution_count": null,
      "metadata": {
        "colab": {
          "base_uri": "https://localhost:8080/",
          "height": 452
        },
        "id": "ovesfWAyHFaY",
        "outputId": "74fe5d9b-588d-4070-f2c0-d6ac381cdab0"
      },
      "outputs": [
        {
          "data": {
            "text/plain": [
              "<matplotlib.image.AxesImage at 0x7f4b1c63c190>"
            ]
          },
          "execution_count": 4,
          "metadata": {},
          "output_type": "execute_result"
        },
        {
          "data": {
            "image/png": "[encoded data removed]",
            "text/plain": [
              "<Figure size 640x480 with 1 Axes>"
            ]
          },
          "metadata": {},
          "output_type": "display_data"
        }
      ],
      "source": [
        "plt.imshow(cityscape_Ytrain['array_0'])"
      ]
    },
    {
      "cell_type": "code",
      "execution_count": null,
      "metadata": {
        "id": "2eo8NoKh3sfX"
      },
      "outputs": [],
      "source": [
        "\n",
        "def npz_to_npy(npz):\n",
        "  npy_list = []\n",
        "  for file in npz.files:\n",
        "    npy_list.append(npz[file].copy())\n",
        "\n",
        "  npy_arr = np.array(npy_list, dtype=np.uint8)\n",
        "  del npy_list\n",
        "\n",
        "  return npy_arr"
      ]
    },
    {
      "cell_type": "code",
      "execution_count": null,
      "metadata": {
        "id": "xBJbe4KNF3FD"
      },
      "outputs": [],
      "source": [
        "def resize_to_224(arr):\n",
        "  resized = np.zeros((len(arr), 224, 224, 3), dtype=np.uint8)\n",
        "  for i in range(len(arr)):\n",
        "    resized[i] = np.asarray(Image.fromarray(arr[i]).resize((224, 224)))\n",
        "\n",
        "  return resized"
      ]
    },
    {
      "cell_type": "code",
      "execution_count": null,
      "metadata": {
        "id": "9X1py-aQHqQC"
      },
      "outputs": [],
      "source": []
    },
    {
      "cell_type": "code",
      "execution_count": null,
      "metadata": {
        "id": "XwYtFDMm3X04"
      },
      "outputs": [],
      "source": [
        "cityscape_Xtrain = npz_to_npy(cityscape_Xtrain)\n",
        "cityscape_Xval  = npz_to_npy(cityscape_Xval)\n",
        "\n",
        "# resize array to (224, 224)\n",
        "cityscape_Xtrain224 = resize_to_224(cityscape_Xtrain)\n",
        "cityscape_Xval224 = resize_to_224(cityscape_Xval)"
      ]
    },
    {
      "cell_type": "code",
      "execution_count": null,
      "metadata": {
        "id": "woe9wMYfCCot"
      },
      "outputs": [],
      "source": [
        "# compute GVI based on label pixels\n",
        "cityscape_Ytrain_GVI = np.expand_dims(np.mean(npz_to_npy(cityscape_Ytrain), axis=(1,2)), axis=-1)\n",
        "cityscape_Yval_GVI =  np.expand_dims(np.mean(npz_to_npy(cityscape_Yval), axis=(1,2)), axis=-1)"
      ]
    },
    {
      "cell_type": "code",
      "execution_count": null,
      "metadata": {
        "colab": {
          "base_uri": "https://localhost:8080/"
        },
        "id": "kpB2tOOKqaVy",
        "outputId": "af25ee9d-e6cb-40c3-d3fa-0e509b520099"
      },
      "outputs": [
        {
          "data": {
            "text/plain": [
              "0.6967315673828125"
            ]
          },
          "execution_count": 9,
          "metadata": {},
          "output_type": "execute_result"
        }
      ],
      "source": [
        "cityscape_Yval_GVI.max()"
      ]
    },
    {
      "attachments": {},
      "cell_type": "markdown",
      "metadata": {
        "id": "fOtb8AxpFUvR"
      },
      "source": [
        "# define DeepLabv3+ model\n"
      ]
    },
    {
      "cell_type": "code",
      "execution_count": null,
      "metadata": {
        "id": "2rWNfA01FabD"
      },
      "outputs": [],
      "source": [
        "from tensorflow.keras import layers\n",
        "\n",
        "def convolution_block(\n",
        "    block_input,\n",
        "    num_filters=256,\n",
        "    kernel_size=3,\n",
        "    dilation_rate=1,\n",
        "    padding=\"same\",\n",
        "    use_bias=False,\n",
        "):\n",
        "    x = layers.Conv2D(\n",
        "        num_filters,\n",
        "        kernel_size=kernel_size,\n",
        "        dilation_rate=dilation_rate,\n",
        "        padding=\"same\",\n",
        "        use_bias=use_bias,\n",
        "        kernel_initializer=keras.initializers.HeNormal(),\n",
        "    )(block_input)\n",
        "    x = layers.BatchNormalization()(x)\n",
        "    return tf.nn.relu(x)\n",
        "\n",
        "\n",
        "def DilatedSpatialPyramidPooling(dspp_input):\n",
        "    dims = dspp_input.shape\n",
        "    x = layers.AveragePooling2D(pool_size=(dims[-3], dims[-2]))(dspp_input)\n",
        "    x = convolution_block(x, kernel_size=1, use_bias=True)\n",
        "    out_pool = layers.UpSampling2D(\n",
        "        size=(dims[-3] // x.shape[1], dims[-2] // x.shape[2]), interpolation=\"bilinear\",\n",
        "    )(x)\n",
        "\n",
        "    out_1 = convolution_block(dspp_input, kernel_size=1, dilation_rate=1)\n",
        "    out_6 = convolution_block(dspp_input, kernel_size=3, dilation_rate=6)\n",
        "    out_12 = convolution_block(dspp_input, kernel_size=3, dilation_rate=12)\n",
        "    out_18 = convolution_block(dspp_input, kernel_size=3, dilation_rate=18)\n",
        "\n",
        "    x = layers.Concatenate(axis=-1)([out_pool, out_1, out_6, out_12, out_18])\n",
        "    output = convolution_block(x, kernel_size=1)\n",
        "    return output"
      ]
    },
    {
      "cell_type": "code",
      "execution_count": null,
      "metadata": {
        "colab": {
          "base_uri": "https://localhost:8080/"
        },
        "id": "3hTylx0vrCLV",
        "outputId": "3a508cc6-1330-437c-9bca-a87c3a56d066"
      },
      "outputs": [
        {
          "name": "stdout",
          "output_type": "stream",
          "text": [
            "Downloading data from https://storage.googleapis.com/tensorflow/keras-applications/resnet/resnet50_weights_tf_dim_ordering_tf_kernels_notop.h5\n",
            "94765736/94765736 [==============================] - 1s 0us/step\n"
          ]
        }
      ],
      "source": [
        "from tensorflow import keras\n",
        "def DeeplabV3Plus(image_size, num_classes):\n",
        "    model_input = keras.Input(shape=(image_size, image_size, 3))\n",
        "    resnet50 = keras.applications.ResNet50(\n",
        "        weights=\"imagenet\", include_top=False, input_tensor=model_input\n",
        "    )\n",
        "    x = resnet50.get_layer(\"conv4_block6_2_relu\").output\n",
        "    x = DilatedSpatialPyramidPooling(x)\n",
        "\n",
        "    input_a = layers.UpSampling2D(\n",
        "        size=(image_size // 4 // x.shape[1], image_size // 4 // x.shape[2]),\n",
        "        interpolation=\"bilinear\",\n",
        "    )(x)\n",
        "    input_b = resnet50.get_layer(\"conv2_block3_2_relu\").output\n",
        "    input_b = convolution_block(input_b, num_filters=48, kernel_size=1)\n",
        "\n",
        "    x = layers.Concatenate(axis=-1)([input_a, input_b])\n",
        "    x = convolution_block(x)\n",
        "    x = convolution_block(x)\n",
        "    x = layers.UpSampling2D(\n",
        "        size=(image_size // x.shape[1], image_size // x.shape[2]),\n",
        "        interpolation=\"bilinear\",\n",
        "    )(x)\n",
        "    model_output = layers.Conv2D(num_classes, kernel_size=(1, 1), padding=\"same\")(x)\n",
        "\n",
        "    return keras.Model(inputs=model_input, outputs=model_output)\n",
        "\n",
        "\n",
        "DLV3_model224 = DeeplabV3Plus(image_size=224, num_classes=2)"
      ]
    },
    {
      "cell_type": "code",
      "execution_count": null,
      "metadata": {
        "colab": {
          "base_uri": "https://localhost:8080/"
        },
        "id": "XdqTKL7hOFB9",
        "outputId": "5bafe4e7-ae65-46bb-f7a4-0568cde7ea8d"
      },
      "outputs": [
        {
          "data": {
            "text/plain": [
              "<KerasTensor: shape=(None, 224, 224, 2) dtype=float32 (created by layer 'conv2d_9')>"
            ]
          },
          "execution_count": 13,
          "metadata": {},
          "output_type": "execute_result"
        }
      ],
      "source": [
        "DLV3_model224.output"
      ]
    },
    {
      "cell_type": "code",
      "execution_count": null,
      "metadata": {
        "id": "_hivbNI6DfyQ"
      },
      "outputs": [],
      "source": [
        "#from tensorflow.keras.utils import plot_model\n",
        "#from keras.utils.vis_utils import plot_model\n",
        "#plot_model(DLV3_model,show_shapes=True)"
      ]
    },
    {
      "cell_type": "code",
      "execution_count": null,
      "metadata": {
        "colab": {
          "base_uri": "https://localhost:8080/"
        },
        "id": "00RWdZKZxNhN",
        "outputId": "0faa5314-6526-4cbd-93fd-e2cd655b66bb"
      },
      "outputs": [
        {
          "name": "stdout",
          "output_type": "stream",
          "text": [
            "\u001b[?25l     \u001b[90m━━━━━━━━━━━━━━━━━━━━━━━━━━━━━━━━━━━━━━━━\u001b[0m \u001b[32m0.0/176.1 kB\u001b[0m \u001b[31m?\u001b[0m eta \u001b[36m-:--:--\u001b[0m\r\u001b[2K     \u001b[90m━━━━━━━━━━━━━━━━━━━━━━━━━━━━━━━━━━━━━━━\u001b[0m \u001b[32m176.1/176.1 kB\u001b[0m \u001b[31m5.3 MB/s\u001b[0m eta \u001b[36m0:00:00\u001b[0m\n",
            "\u001b[?25h"
          ]
        }
      ],
      "source": [
        "!pip install -q -U keras-tuner\n",
        "import keras_tuner as kt"
      ]
    },
    {
      "cell_type": "code",
      "execution_count": null,
      "metadata": {
        "id": "wBeNfFtjrIQC"
      },
      "outputs": [],
      "source": [
        "from tensorflow.keras import metrics\n",
        "\n",
        "class MyHyperModel(kt.HyperModel):\n",
        "    def build(self, hp):    # this method can only be named `build`, cannot be changed\n",
        "        # Define the initial number of units for the first layer\n",
        "        #units_previous = hp.Int('units_0', min_value=32, max_value=512, step=32)\n",
        "\n",
        "        x = DLV3_model224.output\n",
        "        x = layers.Dense(units=320)(x)\n",
        "        x = layers.Dense(units=160)(x)\n",
        "        x = layers.Dense(units=64)(x)\n",
        "        x = layers.Dense(units=32)(x)\n",
        "\n",
        "        x = layers.GlobalAveragePooling2D()(x)\n",
        "        x = layers.Dense(1, activation='sigmoid')(x)\n",
        "        \n",
        "        model = keras.Model(inputs=DLV3_model224.input, outputs=x)\n",
        "\n",
        "        hp_learning_rate = hp.Choice('learning_rate', values=[1e-2, 1e-3, 1e-4])\n",
        "\n",
        "        model.compile(loss='binary_crossentropy', \n",
        "                           optimizer=tf.keras.optimizers.Adam(learning_rate=hp_learning_rate), \n",
        "                           metrics=[metrics.MeanAbsoluteError()])\n",
        "\n",
        "        return model\n",
        "\n",
        "    def fit(self, hp, model, *args, **kwargs):\n",
        "        return model.fit(\n",
        "            *args,\n",
        "            batch_size=32,\n",
        "            **kwargs,\n",
        "        )"
      ]
    },
    {
      "cell_type": "code",
      "execution_count": null,
      "metadata": {
        "colab": {
          "base_uri": "https://localhost:8080/"
        },
        "id": "hKpHh9Ozxbxm",
        "outputId": "ece922b8-583d-46e8-f194-fc2654ddc8e0"
      },
      "outputs": [
        {
          "name": "stdout",
          "output_type": "stream",
          "text": [
            "Trial 3 Complete [00h 04m 49s]\n",
            "val_mean_absolute_error: 0.06059691682457924\n",
            "\n",
            "Best val_mean_absolute_error So Far: 0.06059691682457924\n",
            "Total elapsed time: 00h 07m 19s\n"
          ]
        },
        {
          "data": {
            "text/plain": [
              "[<keras_tuner.engine.hyperparameters.hyperparameters.HyperParameters at 0x7f4b1c978400>,\n",
              " <keras_tuner.engine.hyperparameters.hyperparameters.HyperParameters at 0x7f495684fa90>,\n",
              " <keras_tuner.engine.hyperparameters.hyperparameters.HyperParameters at 0x7f495671e3b0>]"
            ]
          },
          "execution_count": 17,
          "metadata": {},
          "output_type": "execute_result"
        }
      ],
      "source": [
        "'''tuner = kt.Hyperband(\n",
        "    hypermodel=MyHyperModel(),\n",
        "    objective='val_mean_absolute_error',\n",
        "    max_epochs=100,\n",
        "    factor=3,\n",
        "    hyperband_iterations=1,\n",
        "    seed=42\n",
        ")'''\n",
        "\n",
        "tuner = kt.RandomSearch(\n",
        "    MyHyperModel(),\n",
        "    objective='val_mean_absolute_error',\n",
        "    max_trials= 5,\n",
        "    executions_per_trial=1,\n",
        "    project_name='my_project'\n",
        ")\n",
        "\n",
        "early_stopping = tf.keras.callbacks.EarlyStopping(\n",
        "                monitor=\"val_mean_absolute_error\",\n",
        "                min_delta=0.0001,\n",
        "                patience=3,\n",
        "                verbose=1,\n",
        "                mode=\"auto\",\n",
        "                baseline=None,\n",
        "                restore_best_weights=True)\n",
        "\n",
        "#tuner.search(cityscape_Xtrain, cityscape_Ytrain_GVI, epochs=15, validation_data=(cityscape_Xval, cityscape_Yval_GVI), callbacks=[early_stopping])\n",
        "tuner.search(cityscape_Xtrain224, cityscape_Ytrain_GVI, epochs=15, validation_data=(cityscape_Xval224, cityscape_Yval_GVI), callbacks=[early_stopping])\n",
        "\n",
        "# Get the optimal hyperparameters\n",
        "best_hps=tuner.get_best_hyperparameters(num_trials=3)\n",
        "best_hps"
      ]
    },
    {
      "cell_type": "code",
      "execution_count": null,
      "metadata": {
        "colab": {
          "base_uri": "https://localhost:8080/"
        },
        "id": "5hEmc2x8iUHh",
        "outputId": "197755a6-d727-49d6-e341-64264bb1d8ac"
      },
      "outputs": [
        {
          "name": "stdout",
          "output_type": "stream",
          "text": [
            "0.0001\n"
          ]
        }
      ],
      "source": [
        "print(best_hps[1].get('learning_rate'))"
      ]
    },
    {
      "cell_type": "code",
      "execution_count": null,
      "metadata": {
        "colab": {
          "base_uri": "https://localhost:8080/"
        },
        "id": "6gwH0Q4gGyAI",
        "outputId": "66e0c8fa-4505-4231-d24b-c8dfb7ca526e"
      },
      "outputs": [
        {
          "data": {
            "text/plain": [
              "<keras.engine.functional.Functional at 0x7f48dd74f3d0>"
            ]
          },
          "execution_count": 21,
          "metadata": {},
          "output_type": "execute_result"
        }
      ],
      "source": [
        "# Build the model with the best hyperparameters\n",
        "my_model = MyHyperModel()\n",
        "DLV3_model224 = my_model.build(best_hps[1])\n",
        "DLV3_model224"
      ]
    },
    {
      "cell_type": "code",
      "execution_count": null,
      "metadata": {
        "colab": {
          "base_uri": "https://localhost:8080/"
        },
        "id": "tak2bwRL_ZYH",
        "outputId": "9d01e2a2-4028-4896-a55b-e205de195cb0"
      },
      "outputs": [
        {
          "name": "stdout",
          "output_type": "stream",
          "text": [
            "Epoch 1/50\n",
            "93/93 [==============================] - 65s 305ms/step - loss: 0.4131 - mean_absolute_error: 0.0783 - val_loss: 0.4097 - val_mean_absolute_error: 0.0532\n",
            "Epoch 2/50\n",
            "93/93 [==============================] - 27s 291ms/step - loss: 0.3925 - mean_absolute_error: 0.0554 - val_loss: 0.4110 - val_mean_absolute_error: 0.0534\n",
            "Epoch 3/50\n",
            "93/93 [==============================] - 27s 291ms/step - loss: 0.3919 - mean_absolute_error: 0.0548 - val_loss: 0.4091 - val_mean_absolute_error: 0.0519\n",
            "Epoch 4/50\n",
            "93/93 [==============================] - 27s 291ms/step - loss: 0.3913 - mean_absolute_error: 0.0537 - val_loss: 0.4103 - val_mean_absolute_error: 0.0534\n",
            "Epoch 5/50\n",
            "93/93 [==============================] - 27s 291ms/step - loss: 0.3912 - mean_absolute_error: 0.0541 - val_loss: 0.4120 - val_mean_absolute_error: 0.0549\n",
            "Epoch 6/50\n",
            "93/93 [==============================] - 27s 292ms/step - loss: 0.3905 - mean_absolute_error: 0.0536 - val_loss: 0.4084 - val_mean_absolute_error: 0.0515\n",
            "Epoch 7/50\n",
            "93/93 [==============================] - 27s 292ms/step - loss: 0.3901 - mean_absolute_error: 0.0525 - val_loss: 0.4071 - val_mean_absolute_error: 0.0503\n",
            "Epoch 8/50\n",
            "93/93 [==============================] - 27s 290ms/step - loss: 0.3900 - mean_absolute_error: 0.0527 - val_loss: 0.4078 - val_mean_absolute_error: 0.0506\n",
            "Epoch 9/50\n",
            "93/93 [==============================] - 27s 293ms/step - loss: 0.3893 - mean_absolute_error: 0.0517 - val_loss: 0.4073 - val_mean_absolute_error: 0.0500\n",
            "Epoch 10/50\n",
            "93/93 [==============================] - 27s 291ms/step - loss: 0.3896 - mean_absolute_error: 0.0520 - val_loss: 0.4073 - val_mean_absolute_error: 0.0511\n",
            "Epoch 11/50\n",
            "93/93 [==============================] - 27s 292ms/step - loss: 0.3884 - mean_absolute_error: 0.0504 - val_loss: 0.4088 - val_mean_absolute_error: 0.0513\n",
            "Epoch 12/50\n",
            "93/93 [==============================] - ETA: 0s - loss: 0.3876 - mean_absolute_error: 0.0499Restoring model weights from the end of the best epoch: 9.\n",
            "93/93 [==============================] - 27s 293ms/step - loss: 0.3876 - mean_absolute_error: 0.0499 - val_loss: 0.4117 - val_mean_absolute_error: 0.0540\n",
            "Epoch 12: early stopping\n",
            "training time =  364.06831765174866 seconds\n"
          ]
        }
      ],
      "source": [
        "import time\n",
        "st =  time.time()\n",
        "\n",
        "history = my_model.fit(best_hps[1], \n",
        "                       DLV3_model224, \n",
        "                       cityscape_Xtrain224, cityscape_Ytrain_GVI, \n",
        "                       epochs=50, \n",
        "                       validation_data=(cityscape_Xval224, cityscape_Yval_GVI), \n",
        "                       callbacks=[early_stopping])\n",
        "'''DCNN_model.fit(\n",
        "    X_train, \n",
        "    y_train_GVI,\n",
        "    epochs=100,\n",
        "    batch_size = 64,\n",
        "    validation_data=(X_valid, y_valid_GVI),\n",
        "    callbacks=early_stopping\n",
        ")'''\n",
        "\n",
        "et =  time.time()\n",
        "elapsed_time = et - st\n",
        "print('training time = ', elapsed_time,'seconds')"
      ]
    },
    {
      "cell_type": "code",
      "execution_count": null,
      "metadata": {
        "colab": {
          "base_uri": "https://localhost:8080/",
          "height": 465
        },
        "id": "N1xQPm60HL10",
        "outputId": "0dabfff5-b08c-4918-da8d-3cef08546de9"
      },
      "outputs": [
        {
          "data": {
            "image/png": "[encoded data removed]",
            "text/plain": [
              "<Figure size 800x500 with 1 Axes>"
            ]
          },
          "metadata": {},
          "output_type": "display_data"
        }
      ],
      "source": [
        "import matplotlib.pyplot as plt\n",
        "fig,ax = plt.subplots(1,1, figsize = (8,5))\n",
        "ax.plot(history.history['mean_absolute_error'])\n",
        "ax.plot(history.history['val_mean_absolute_error'])\n",
        "\n",
        "plt.legend([\"training_mean_absolute_error\", \"val_mean_absolute_error\"], loc =\"lower right\")\n",
        "plt.xlabel('number of epoch')\n",
        "plt.ylabel('mean absolute error')\n",
        "\n",
        "plt.show()"
      ]
    },
    {
      "cell_type": "code",
      "execution_count": null,
      "metadata": {
        "id": "fuqwGV1dHdX4"
      },
      "outputs": [],
      "source": [
        "DLV3_model224.save(\"/content/drive/MyDrive/XJ-Project2//DLV3_model_cityscape_pretrain.hdf5\")"
      ]
    }
  ],
  "metadata": {
    "accelerator": "GPU",
    "colab": {
      "gpuType": "V100",
      "machine_shape": "hm",
      "provenance": []
    },
    "gpuClass": "standard",
    "kernelspec": {
      "display_name": "Python 3",
      "name": "python3"
    },
    "language_info": {
      "codemirror_mode": {
        "name": "ipython",
        "version": 3
      },
      "file_extension": ".py",
      "mimetype": "text/x-python",
      "name": "python",
      "nbconvert_exporter": "python",
      "pygments_lexer": "ipython3",
      "version": "3.10.4"
    }
  },
  "nbformat": 4,
  "nbformat_minor": 0
}
